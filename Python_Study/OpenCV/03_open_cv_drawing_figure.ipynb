{
 "cells": [
  {
   "cell_type": "code",
   "execution_count": 1,
   "metadata": {},
   "outputs": [],
   "source": [
    "import cv2\n",
    "import numpy as np\n",
    "import math\n",
    "from random import shuffle"
   ]
  },
  {
   "cell_type": "markdown",
   "metadata": {},
   "source": [
    "# 도형그리기\n",
    "## 캔버스 만들기\n",
    "    img = np.full((512, 512, 3), 255, np.uint8)\n",
    "    도형을 그리기 위한 공간을 생성한다. 위 코드는 (512, 512, 3)의 크기에 255라는 값으로 채워진 numpy array를 생성하는 코드이다. 데이터 타입은 uint8(0~255의 정수)이다. 여기서 배열을 채우는 값이 단일 상수로 되어있으면 흑백의 binary 값으로 인식하여 0이면 검은색, 255이면 흰색으로 채워지게 되고, (0, 0, 255)처럼 3개의 요소를 가진 벡터로 되어있으면 BGR 값으로 인식하여 해당 색으로 값이 채워지게 된다.\n",
    "\n",
    "## cv2.line(img, pt1, pt2, color[, thickness[, lineType[, shift]]]) -> img\n",
    "    cv2.line(img, (0, 0), (511, 511), (255, 0, 0), 5)\n",
    "    1. img : 그림판\n",
    "    2. (0, 0) : 시작점\n",
    "    3. (511, 511) : 끝점\n",
    "    4. (255, 0, 0) : BGR 값으로 정해지는 선의 색 (파란색)\n",
    "    5. 5 : 선의 두께\n",
    "    6. lineType : 선을 화면에 표현하는 방법으로 디폴트로 cv2.LINE_8(8-connected)로 정해져 있다. 이 외에도 cv2.LINE_AA(anti-aliased) 등으로 설정 가능하다\n",
    "    \n",
    "    \n",
    "## cv2.rectangle(img, pt1, pt2, color[, thickness[, lineType[, shift]]]) -> img\n",
    "    cv2.rectangle(img, (384, 8), (504, 200), (0, 255, 0), 10)\n",
    "    1. img : 그림판\n",
    "    2. (384, 8) : 좌삳단 꼭지점\n",
    "    3. (504, 200) : 우하단 꼭지점\n",
    "    4. (0, 255, 0) : BGR 값으로 정해지는 선의 색 (초록색)\n",
    "    5. 10 : 선의 두께, 만약 이 값이 음수(-1)이면 도형 안쪽을 선의 색으로 채운다.\n",
    "    6. lineType : 선을 화면에 표현하는 방법으로 디폴트로 cv2.LINE_8(8-connected)로 정해져 있다. 이 외에도 cv2.LINE_AA(anti-aliased) 등으로 설정 가능하다\n",
    "    \n",
    "\n",
    "## cv2.circle(img, center, radius, color[, thickness[, lineType[, shift]]]) -> img\n",
    "    cv2.circle(img, (128, 128), 63, (0, 0, 255), -1)\n",
    "    1. img : 그림판\n",
    "    2. (128, 128) : 원의 중심\n",
    "    3. 63 : 원의 반지름\n",
    "    4. (0, 0, 255) : BGR 값으로 정해지는 선의 색 (빨간색)\n",
    "    5. -1 : 선의 두께, 만약 이 값이 음수(-1)이면 도형 안쪽을 선의 색으로 채운다.\n",
    "    6. lineType : 선을 화면에 표현하는 방법으로 디폴트로 cv2.LINE_8(8-connected)로 정해져 있다. 이 외에도 cv2.LINE_AA(anti-aliased) 등으로 설정 가능하다\n",
    "\n",
    "## cv2.ellipse(img, center, axes, angle, startAngle, endAngle, color[, thickness[, lineType[, shift]]]) -> img\n",
    "    cv2.ellipse(img, (256, 256), (100, 50), 30, 90, 180, (255, 0, 255), -1)\n",
    "    1. img : 그림판\n",
    "    2. (256, 256) : 타원의 중심\n",
    "    3. (100, 50) : 각각 장축과 단축의 반의 길이\n",
    "    4. 30 : 타원이 기울어지는 각도, 시계방향으로 돈다.\n",
    "    5. 90 : 타원을 그리기 시작하는 각도, 시계방향으로 돈다.\n",
    "    6. 180 : 타원을 그리는데 마치는 각도, 시계방향으로 돈다.\n",
    "    7. (255, 0, 255) : BGR 값으로 채워지는 선의 색 (분홍색)\n",
    "    8. -1 : 선의 두께, 만약 이 값이 음수(-1)이면 도형 안쪽을 선의 색으로 채운다.\n",
    "    9. lineType : 선을 화면에 표현하는 방법으로 디폴트로 cv2.LINE_8(8-connected)로 정해져 있다. 이 외에도 cv2.LINE_AA(anti-aliased) 등으로 설정 가능하다\n",
    "    \n",
    "## cv2.putText(img, text, org, fontFace, fontScale, color[, thickness[, lineType[, bottomLeftOrigin]]]) -> img\n",
    "    font = cv2.FONT_HERSHEY_SCRIPT_SIMPLEX\n",
    "    1. FONT_HERSHEY_COMPLEX\n",
    "    2. FONT_HERSHEY_COMPLEX_SMALL\n",
    "    3. FONT_HERSHEY_DUPLEX\n",
    "    4. FONT_HERSHEY_PLAIN\n",
    "    5. FONT_HERSHEY_SCRIPT_COMPLEX\n",
    "    6. FONT_HERSHEY_SCRIPT_SIMPLEX\n",
    "    7. FONT_HERSHEY_SIMPLEX\n",
    "    8. FONT_HERSHEY_TRIPLEX\n",
    "    cv::HersheyFonts 참고\n",
    "    \n",
    "    cv2.putText(img, 'OpenCV', (10, 500), font, 4, (0, 255, 255), 3)\n",
    "    1. img : 그림판\n",
    "    2. 'OpenCV' : 넣고 싶은 텍스트\n",
    "    3. (10, 500) : 텍스트 이미지의 좌하단 꼭짓점\n",
    "    4. font : fontFace 폰트 스타일 지정.\n",
    "    5. 4 : 폰트 크기를 지정\n",
    "    6. (0, 255, 255) : BGR 값으로 채워지는 선의 색 (노란색)\n",
    "    7. 3 : 폰트 굵기를 지정\n",
    "    8. lineType : 선을 화면에 표현하는 방법으로 디폴트로 cv2.LINE_8(8-connected)로 정해져 있다. 이 외에도 cv2.LINE_AA(anti-aliased) 등으로 설정 가능하다"
   ]
  },
  {
   "cell_type": "code",
   "execution_count": 2,
   "metadata": {},
   "outputs": [],
   "source": [
    "def drawing():\n",
    "    img = np.full((512, 512, 3), 255, np.uint8)\n",
    "\n",
    "    cv2.line(img, (0, 0), (511, 511), (255, 0, 0), 5)\n",
    "    cv2.rectangle(img, (384, 8), (504, 200), (0, 255, 0), 10)\n",
    "    cv2.circle(img, (128, 128), 63, (0, 0, 255), -1)\n",
    "    cv2.ellipse(img, (256, 256), (100, 50), 30, 90, 180, (255, 0, 255), -1)\n",
    "            \n",
    "    font = cv2.FONT_HERSHEY_SCRIPT_SIMPLEX\n",
    "    cv2.putText(img, 'OpenCV', (10, 500), font, 4, (0, 255, 255), 3)\n",
    "    \n",
    "    cv2.imshow('drawing', img)\n",
    "    cv2.waitKey(0)\n",
    "    cv2.destroyAllWindows()"
   ]
  },
  {
   "cell_type": "code",
   "execution_count": 3,
   "metadata": {},
   "outputs": [],
   "source": [
    "drawing()"
   ]
  },
  {
   "cell_type": "markdown",
   "metadata": {},
   "source": [
    "# 마우스로 도형 그리기\n",
    "## cv2.setMouseCallback(windowName, onMouse [, param])\n",
    "    cv2.setMouseCallback('paint', onMouse, param = img)\n",
    "    setMouseCallback 마우스 이벤트를 처리하는 함수\n",
    "    1. 첫번째 인자에는 이미지를 띄울 윈도우의 이름을, \n",
    "    2. 두번째 인자에는 마우스 이벤트를 처리할 함수의 이름을 지정한다. 두번째 인자를 MouseCallback 함수라고 부른다.\n",
    "    3. 세번째 인자에는 Callback 함수에 전달되는 데이터를 지정한다.\n",
    "\n",
    "## def onMouse(event, x, y, flags, param) == MouseCallback(event, x, y, flags [, userdata])\n",
    "    setMouseCallback 함수에서 두번째 인자로 들어갈 MouseCallback 함수에는 총 5가지 인자를 입력으로 받는다.\n",
    "    첫번째 인자에는 MouseEventTypes이 들어간다. 다음과 같은 이벤트를 입력으로 받을 수 있다.\n",
    "    1. cv2.EVENT_MOUSEMOVE : 윈도우 위에서의 마우스 포인터 움직임\n",
    "    2. cv2.EVENT_LBUTTONDOWN : 왼쪽 마우스 버튼 누르기\n",
    "    3. cv2.EVENT_LBUTTONUP : 왼쪽 마우스 버튼 떼기\n",
    "    4. cv2.EVENT_LBUTTONDBLCLK : 왼쪽 마우스 버튼 더블클릭\n",
    "    cv::MouseEventTypes 참고\n",
    "\n",
    "    두번째 인자, 세번째 인자의 x, y에는 마우스 이벤트가 벌어진 위치를 확인한다\n",
    "    네번째 인자에는 MouseEventFlags 타입이 들어간다. 다음과 같은 이벤트 발생시 생성된다.\n",
    "    1. cv2.EVENT_FLAG_LBUTTON : 왼쪽 마우스 버튼 누르기\n",
    "    2. cv2.EVENT_FLAG_CTRLKEY : CTRL 키 누르기\n",
    "    3. cv2.EVENT_FLAG_SHIFTKEY : SHIFT 키 누르기\n",
    "    4. cv2.EVENT_FLAG_ALTKEY : ALT 키 누르기\n",
    "    cv::MouseEventFlags 참고\n",
    "\n",
    "    마지막 인자에는 cv2.setMouseCallback()함수에서 전달받은 사용자 데이터가 전달된다. \n",
    "    우리 코드에서는 img가 전달된다."
   ]
  },
  {
   "cell_type": "code",
   "execution_count": 4,
   "metadata": {},
   "outputs": [],
   "source": [
    "b = [i for i in range(256)]\n",
    "g = [i for i in range(256)]\n",
    "r = [i for i in range(256)]"
   ]
  },
  {
   "cell_type": "code",
   "execution_count": 5,
   "metadata": {},
   "outputs": [],
   "source": [
    "def onMouse(event, x, y, flags, param):\n",
    "    global img\n",
    "    if event == cv2.EVENT_LBUTTONDBLCLK:\n",
    "        shuffle(b), shuffle(g), shuffle(r)\n",
    "        cv2.circle(param, (x, y), 50, (b[0], g[0], r[0]), -1)\n",
    "        cv2.imshow('paint', img)"
   ]
  },
  {
   "cell_type": "code",
   "execution_count": 6,
   "metadata": {},
   "outputs": [],
   "source": [
    "img = np.full((512, 512, 3), 0, np.uint8)\n",
    "\n",
    "def mouseBrush():\n",
    "    global img\n",
    "    \n",
    "    cv2.namedWindow('paint')\n",
    "    cv2.setMouseCallback('paint', onMouse, param=img)\n",
    "    \n",
    "    while True:\n",
    "        cv2.imshow('paint', img)\n",
    "        if cv2.waitKey(0) & 0xFF == 27:\n",
    "            break\n",
    "    \n",
    "    cv2.destroyAllWindows()"
   ]
  },
  {
   "cell_type": "code",
   "execution_count": 7,
   "metadata": {},
   "outputs": [],
   "source": [
    "mouseBrush()"
   ]
  },
  {
   "cell_type": "markdown",
   "metadata": {},
   "source": [
    "    위 mouseBrush 함수는 더블클릭으로 반지름이 50인 원을 그리는 예제이다.\n",
    "    \n",
    "    우선 np.full 함수를 이용해 검정색을 배경으로 하는 캔버스를 하나 만든다. 이 캔버스에 'paint'이름을 붙이고 'paint' 캔버스 위에서 마우스 이벤트 발생시 onMouse 함수를 불러와 기능을 수행하게 한다. 왼쪽 마우스 더블클릭 외 다른 이벤트 발생시 이를 무시하고, 왼쪽 마우스 더블클릭이 발생하면 (event == cv2.MOUSE_LBUTTONDBLCLK) 랜덤으로 BGR 값을 정한 후 해당 마우스 이벤트가 벌어진 위치에 반지름이 50인 원을 그린다."
   ]
  },
  {
   "cell_type": "markdown",
   "metadata": {},
   "source": [
    "# 마우스로 도형 그리기 2차"
   ]
  },
  {
   "cell_type": "code",
   "execution_count": 8,
   "metadata": {},
   "outputs": [],
   "source": [
    "mode = True\n",
    "img2 = np.full((512, 512, 3), 0, np.uint8)\n",
    "drawing = False\n",
    "ix, iy = -1, -1\n",
    "B = [i for i in range(256)]\n",
    "G = [i for i in range(256)]\n",
    "R = [i for i in range(256)]"
   ]
  },
  {
   "cell_type": "code",
   "execution_count": 9,
   "metadata": {},
   "outputs": [],
   "source": [
    "def onMouse(event, x, y, flags, param):\n",
    "    global ix, iy, drawing, mode, B, G, R ,img2\n",
    "    \n",
    "    if event == cv2.EVENT_LBUTTONDOWN:\n",
    "        drawing = True\n",
    "        ix, iy = x, y\n",
    "        shuffle(B), shuffle(G), shuffle(R)\n",
    "        \n",
    "    elif event == cv2.EVENT_MOUSEMOVE:\n",
    "        if drawing:\n",
    "            paint_img = img2.copy()\n",
    "            if mode:\n",
    "                cv2.rectangle(param, (ix, iy), (x, y), (B[0], G[0], R[0]), -1)\n",
    "                cv2.imshow('paint_mode', img2)\n",
    "                \n",
    "            else:\n",
    "                r = (ix-x)**2 + (iy-y)**2\n",
    "                r = int(math.sqrt(r))\n",
    "                cv2.circle(param, (ix, iy), r, (B[0], G[0], R[0]), -1)\n",
    "                cv2.imshow('paint_mode', img2)\n",
    "                \n",
    "    elif event == cv2.EVENT_LBUTTONUP:\n",
    "        if drawing:\n",
    "            drawing = False"
   ]
  },
  {
   "cell_type": "code",
   "execution_count": 10,
   "metadata": {},
   "outputs": [],
   "source": [
    "def mouseBrush():\n",
    "    global mode, img2\n",
    "    \n",
    "    cv2.namedWindow('paint_mode')\n",
    "    cv2.setMouseCallback('paint_mode', onMouse, param = img2)\n",
    "    \n",
    "    while True:\n",
    "        cv2.imshow('paint_mode', img2)\n",
    "        \n",
    "        k = cv2.waitKey(0) & 0xFF\n",
    "        if k == 27:\n",
    "            break\n",
    "            \n",
    "        elif k == ord('m'):\n",
    "            mode = not mode\n",
    "    \n",
    "    cv2.destroyAllWindows()"
   ]
  },
  {
   "cell_type": "code",
   "execution_count": 11,
   "metadata": {},
   "outputs": [],
   "source": [
    "mouseBrush()"
   ]
  },
  {
   "cell_type": "markdown",
   "metadata": {},
   "source": [
    "    위 mouseBrush 함수는 처음에 더블클릭으로 직사각형을 그릴 부분을 지정하고 마우스를 옮긴 만큼 직사각형을 그린 후, 키보드에서 'm'을 눌러 직사각형을 그리던 것을 원으로 바꿔그리는 예제이다. 동작 원리는 위와 동일하다.\n",
    "\n",
    "    우선 np.full 함수를 이용해 검정색을 배경으로 하는 캔버스를 하나 만든다. 이 캔버스에 'paint'이름을 붙이고 'paint' 캔버스 위에서 마우스 이벤트 발생시 onMouse 함수를 불러와 기능을 수행하게 한다. 왼쪽 마우스 버튼을 누르는 이벤트 외 다른 이벤트 발생시 이를 무시하고, 해당 이벤트가 발생하면 (event == cv2.MOUSE_LBUTTONDOWN) 랜덤으로 BGR 값을 정한 후 해당 마우스 이벤트가 벌어진 위치에 직사각형의 좌상단 꼭지점의 위치를 확인한다. 이후 마우스를 움직이면 마우스를 움직인 곳이 우하단 꼭지점이 되어 그만큼의 직사각형이 그려지게 된다. 키보드에서 'm'을 누르면 직사각형이 아닌 원을 그리기 시작한다. 마찬가지로 마우스를 움직인만큼 원을 그린다."
   ]
  }
 ],
 "metadata": {
  "kernelspec": {
   "display_name": "Python 3",
   "language": "python",
   "name": "python3"
  },
  "language_info": {
   "codemirror_mode": {
    "name": "ipython",
    "version": 3
   },
   "file_extension": ".py",
   "mimetype": "text/x-python",
   "name": "python",
   "nbconvert_exporter": "python",
   "pygments_lexer": "ipython3",
   "version": "3.7.4"
  }
 },
 "nbformat": 4,
 "nbformat_minor": 4
}
