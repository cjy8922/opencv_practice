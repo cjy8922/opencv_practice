{
 "cells": [
  {
   "cell_type": "code",
   "execution_count": 1,
   "metadata": {},
   "outputs": [],
   "source": [
    "import cv2\n",
    "import numpy as np"
   ]
  },
  {
   "cell_type": "markdown",
   "metadata": {},
   "source": [
    "# 이미지 읽기\n",
    "## cv2.imread(filename [, flag])\n",
    "    img = cv2.imread(filename, cv2.IMREAD_COLOR) \n",
    "    첫번째 인자에는 이미지 파일을, 두번째 인자에는 이미지 파일을 읽는 방식을 나타내는 플래그를 나타냄.\n",
    "\n",
    "    flag는 대표적으로 3가지를 자주 사용함\n",
    "    1. cv2.IMREAD_COLOR : 컬러이미지 로드, 이미지의 투명한 부분(알파채널)은 모두 무시됨. 디폴트 플래그로 정수값은 1\n",
    "    2. cv2.IMREAD_GRAYSCALE : 흑백이미지 로드. 정수값은 0\n",
    "    3. cv2.IMREAD_UNCHANGED : 알파채널을 포함하여 이미지 '그대로' 로드. 정수값은 -1\n",
    "    cv::ImreadModes 참고\n",
    "    \n",
    "## cv2.imshow(winname, mat)\n",
    "    cv2.imshow('Show Image', img)\n",
    "    imread에 의해 반환된 이미지 객체 img를 화면에 나타내기 위한 함수로 첫번째 인자에는 사진을 나타내는 윈도우의 이름, 두번째 인자에는 화면에 표시할 이미지 객체를 넣어주면 된다.\n",
    "    \n",
    "## cv2.waitKey( [, delay])\n",
    "    cv2.waitKey(0)\n",
    "    이 함수는 지정된 시간 동안 키보드 입력을 기다리는 함수이다. 인자로는 키보드 입력을 기다리는 시간으로 1/1000ms 단위를 나타낸다. 즉, cv2.waitKey(5)는 5ms 동안 키보드 입력을 대기한다는 의미이다. 단, cv2.waitKey(0)는 키보드 입력이 있을 때까지 계속해서 기다리게 된다. 이 함수의 리턴값은 사용자가 누른 키보드 값이다. 만약 ESC값을 눌렀다면 cv2.waitKey()는 27를 리턴하게 된다\n",
    "\n",
    "## cv2.destroyAllWindows()\n",
    "    cv2.destroyAllWindows()\n",
    "    이 함수는 우리가 생성한 모든 윈도우를 제거한다."
   ]
  },
  {
   "cell_type": "code",
   "execution_count": 2,
   "metadata": {},
   "outputs": [],
   "source": [
    "def showImage_color(img_file):\n",
    "    img = cv2.imread(img_file, cv2.IMREAD_COLOR)\n",
    "    cv2.imshow('Show Image', img)\n",
    "    cv2.waitKey(0)\n",
    "    cv2.destroyAllWindows()"
   ]
  },
  {
   "cell_type": "code",
   "execution_count": 20,
   "metadata": {},
   "outputs": [],
   "source": [
    "showImage_color('bald-eagle-5463386_1280.jpg')"
   ]
  },
  {
   "cell_type": "code",
   "execution_count": 4,
   "metadata": {},
   "outputs": [],
   "source": [
    "def showImage_gray(img_file):\n",
    "    img = cv2.imread(img_file, cv2.IMREAD_GRAYSCALE)\n",
    "    cv2.imshow('Show Image', img)\n",
    "    cv2.waitKey(0)\n",
    "    cv2.destroyAllWindows()"
   ]
  },
  {
   "cell_type": "code",
   "execution_count": 21,
   "metadata": {},
   "outputs": [],
   "source": [
    "showImage_gray('bald-eagle-5463386_1280.jpg')"
   ]
  },
  {
   "cell_type": "code",
   "execution_count": 6,
   "metadata": {},
   "outputs": [],
   "source": [
    "def showImage_with_alpha_channel(img_file):\n",
    "    img = cv2.imread(img_file, cv2.IMREAD_UNCHANGED)\n",
    "    cv2.imshow('Show Image', img)\n",
    "    cv2.waitKey(0)\n",
    "    cv2.destroyAllWindows()"
   ]
  },
  {
   "cell_type": "code",
   "execution_count": 22,
   "metadata": {},
   "outputs": [],
   "source": [
    "showImage_with_alpha_channel('bald-eagle-5463386_1280.jpg')"
   ]
  },
  {
   "cell_type": "markdown",
   "metadata": {},
   "source": [
    "    이렇게 각각 서로 다른 플래그로 만든 세 함수, showImage_color, showImage_gray, showImage_with_alpha_channel를 이용해 사진을 출력하게 되면 사이즈 조절이 되지 않는 고정된 이미지가 출력되게 된다. 만약 크기 조절이 가능한 이미지를 출력하고 싶으면 cv2.namedWindow()를 이용해 이미지가 표시될 창의 성격을 지정해주어야 한다.\n",
    "    \n",
    "## cv2.namedWindow(winname [, flags])\n",
    "    cv2.namedWindow('Show Image', cv2.WINDOW_NORMAL)\n",
    "    첫번째 인자에는 사진을 나타내는 윈도우의 이름을, 두번째 인자에는 나타나는 윈도우의 성격을 지정해주면 된다. 이때 주의할 점은 ★ cv2.namedWindow에서 지정한 winname과 cv2.imshow에서 지정한 winname 윈도우 타이틀이 동일해야 namedWindow에서 지정한 flag의 성격이 반영된다는 점이다.\n",
    "    \n",
    "    대표적인 flag에는 다음 두가지가 있다.\n",
    "    1. cv2.WINDOW_NORMAL : 원본 이미지 크기로 윈도우 생성. 이미지 크기 조절 가능\n",
    "    2. cv2.WINDOW_AUTOSIZE : 원본 이미지 크기로 윈도우를 생성. 이미지 크기 조절 불가능\n",
    "    cv::WindowFlags 참고"
   ]
  },
  {
   "cell_type": "code",
   "execution_count": 8,
   "metadata": {},
   "outputs": [],
   "source": [
    "def showImage_scale_adjustment(img_file):\n",
    "    img = cv2.imread(img_file, cv2.IMREAD_COLOR)\n",
    "    cv2.namedWindow('Show Image with scale adjustment', cv2.WINDOW_NORMAL | cv2.WINDOW_KEEPRATIO)\n",
    "    cv2.imshow('Show Image with scale adjustment', img)\n",
    "    cv2.waitKey(0)\n",
    "    cv2.destroyAllWindows()"
   ]
  },
  {
   "cell_type": "code",
   "execution_count": 23,
   "metadata": {},
   "outputs": [],
   "source": [
    "showImage_scale_adjustment('bald-eagle-5463386_1280.jpg')"
   ]
  },
  {
   "cell_type": "markdown",
   "metadata": {},
   "source": [
    "## cv2.imwrite(filename, img [, params])\n",
    "    cv2.imwrite(store_img_file_name, img)\n",
    "    이미지를 저장하는 함수\n",
    "    \n",
    "    우선 아래의 코드를 보자. waitKey(0)는 사용자가 키보드로 입력할 때까지 이미지를 띄워주는 함수로 사용자가 누른 키보드 값을 반환한다고 했다. 0xFF를 &(bit operator) 연산한 이유는 운영체제가 64비트이기 때문이다. 32비트 운영체제라면 & 0xFF 연산할 필요가 없다. 만약 아스키 코드 값이 27인 ESC를 누르면 그냥 윈도우 창을 종료하고, 'c'를 누르면 기존의 이미지 파일 이름에 _copy를 붙여 복사본을 만든다.\n",
    "    \n",
    "    참고 : ord('c') 함수는 해당 문자의 아스키 코드 값을 반환한다. ord('c') == 99\n",
    "    참고 : chr(99) 함수는 해당 아스키 코드 값을 가진 문자를 반환한다. chr(99) == 'c'"
   ]
  },
  {
   "cell_type": "code",
   "execution_count": 11,
   "metadata": {},
   "outputs": [],
   "source": [
    "def store_image(img_file):\n",
    "    img = cv2.imread(img_file, cv2.IMREAD_COLOR)\n",
    "    cv2.imshow('Show Image', img)\n",
    "    \n",
    "    k = cv2.waitKey(0) & 0xFF\n",
    "    if k == 27:\n",
    "        cv2.destroyAllWindows()\n",
    "    elif k == ord('c'):\n",
    "        img_file = img_file[:-4]\n",
    "        store_img_file_name = img_file + \"_copy.jpg\"\n",
    "        print(store_img_file_name)\n",
    "        cv2.imwrite(store_img_file_name, img)\n",
    "        cv2.destroyAllWindows()            "
   ]
  },
  {
   "cell_type": "code",
   "execution_count": 24,
   "metadata": {},
   "outputs": [],
   "source": [
    "store_image('bald-eagle-5463386_1280.jpg')"
   ]
  },
  {
   "cell_type": "code",
   "execution_count": 25,
   "metadata": {},
   "outputs": [],
   "source": [
    "showImage_color('alena-aenami-aenami-lunar_copy.jpg')"
   ]
  }
 ],
 "metadata": {
  "kernelspec": {
   "display_name": "Python 3",
   "language": "python",
   "name": "python3"
  },
  "language_info": {
   "codemirror_mode": {
    "name": "ipython",
    "version": 3
   },
   "file_extension": ".py",
   "mimetype": "text/x-python",
   "name": "python",
   "nbconvert_exporter": "python",
   "pygments_lexer": "ipython3",
   "version": "3.7.4"
  }
 },
 "nbformat": 4,
 "nbformat_minor": 4
}
