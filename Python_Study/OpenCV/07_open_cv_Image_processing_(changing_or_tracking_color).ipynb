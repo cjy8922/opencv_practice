{
 "cells": [
  {
   "cell_type": "code",
   "execution_count": 2,
   "metadata": {
    "ExecuteTime": {
     "end_time": "2020-08-19T07:21:44.457340Z",
     "start_time": "2020-08-19T07:21:44.451397Z"
    }
   },
   "outputs": [],
   "source": [
    "import cv2\n",
    "import numpy as np"
   ]
  },
  {
   "cell_type": "markdown",
   "metadata": {},
   "source": [
    "# Digital Image\n",
    "    디지털 이미지는 2차원 행렬의 형태로 표현이 된다. 행과 열로 이루어진 격자를 pixel라고 하며, pixel로 이루어진 이미지를 bitmap image라고 한다. 각 pixel의 위치는 영상좌표와 행렬 위치, 2가지로 표현할 수 있다. 좌상단 꼭짓점을 중심으로 영상좌표는 (y, x)로 표현하고, 행렬위치는 (row, column)로 표현한다. OpenCV 에서는 영상좌표와 행렬 위치, 2가지 형태가 사용되기 때문에 유의해야 한다."
   ]
  },
  {
   "cell_type": "markdown",
   "metadata": {},
   "source": [
    "## Binary Image\n",
    "    Binary Image 는 픽셀당 1bit로 표현하는 이미지를 의미한다. 오직 흰색(1)과 검은색(0)으로만 표현이 된다. Binary Image를 만드는 방법에는 두 가지가 있다. 첫 번째는 원하는 포인트에 점을 지어 만드는 방법이고, 두 번째는 기존의 흑백 영상으로부터 임계값(threshold)을 두어 만드는 방법이 있다. 이 때 임계값은 0~255 사이 중 하나를 지정하게 되는데 기본적으로 임계값을 128로 두어 127보다 작은 픽셀 값은 0으로, 큰 픽셀값은 1로 만드는 방법이다. 이렇게 만든 Binary Image는 Image Segmentation, Object Detection 등 다양한 영상처리 기법의 한 과정으로 응용된다.\n",
    "    \n",
    "## Grayscale Image\n",
    "    Grayscale Image 는 픽셀당 8bit(1Byte), 즉 256 단계로 명암(빛의 세기)를 표현할 수 있는 이미지이다. 이 픽셀의 밝기 값을 어느 범위에서 표현할지에 따라 흑백 영상의 모습이 약간씩 달라진다. 가장 작은 범위로 표현한 영상이 Binary Image(0과 1로만 밝기를 표현)라고 할 수 있으며 가장 큰 값으로 표현한 범위가 8bit로 표현한 Grayscale Image라고 할 수 있다. ★ 대부분의 영상처리 알고리즘은 바로 이 흑백 이미지에서 처리 된다. 심지어 딥러닝을 통한 얼굴 인식 등에도 컬러 영상이 아닌 흑백 영상이 학습 데이터로써 이용된다. 컬러 이미지는 표현방법이 약간 복잡하기 때문에 영상 처리를 적용하기 까다롭고 복잡하기 떄문이다.\n",
    "    \n",
    "## Color Image\n",
    "    Color Image는 보통 3개의 채널로 표현된다. 이 때, 3개의 채널은 각각 Red, Green, Blue를 뜻하며 채널 별로 Grayscale Image처럼 0~255 사이의 값으로 표현된다. 이 세 가지의 기본 컬러를 조합하여 만든 색을 True Color라고 부르며 여러 이미지나 그래픽 관련 프로그램들은 이 RGB 채널에 투명도(Transparent)를 나타내는 Alpha 채널을 더하여 RGBA로 4개의 채널을 사용하기도 한다. 이 Color Image는 다양한 컬러 모델로 표현할 수 있는데 가장 대표적인 형태로는 RGB와 HSV, YCbCr모델 등이 있다.\n",
    "    \n",
    "    ### RGB 모델\n",
    "    RGB 모델은 빛의 삼원색인 빨간색(Red), 초록색(Green), 파란색(Blue)를 기본 색으로 사용한다.\n",
    "    \n",
    "    ### HSV 모델\n",
    "    HSV 모델은 색상(Hue), 채도(Saturation, 선명도), 명도(Value, 밝기)로 표현한다."
   ]
  },
  {
   "cell_type": "markdown",
   "metadata": {},
   "source": [
    "--------\n",
    "# Color Space 색공간 변환"
   ]
  },
  {
   "cell_type": "markdown",
   "metadata": {},
   "source": [
    "    openCV에는 총 150여 가지의 변환 방법이 있다. 아래는 변환 방법을 확인하는 코드이다. flag 명들이 직관적이라 한 눈에 알아볼 수 있지만 코드에 대한 자세한 설명은 OpenCV의 reference를 참고하면 된다.\n",
    "    cv::ColorConversionCodes 참고"
   ]
  },
  {
   "cell_type": "code",
   "execution_count": 3,
   "metadata": {
    "ExecuteTime": {
     "end_time": "2020-08-19T07:21:46.755898Z",
     "start_time": "2020-08-19T07:21:46.749314Z"
    }
   },
   "outputs": [
    {
     "name": "stdout",
     "output_type": "stream",
     "text": [
      "['COLOR_BAYER_BG2BGR', 'COLOR_BAYER_BG2BGRA', 'COLOR_BAYER_BG2BGR_EA', 'COLOR_BAYER_BG2BGR_VNG', 'COLOR_BAYER_BG2GRAY', 'COLOR_BAYER_BG2RGB', 'COLOR_BAYER_BG2RGBA', 'COLOR_BAYER_BG2RGB_EA', 'COLOR_BAYER_BG2RGB_VNG', 'COLOR_BAYER_GB2BGR', 'COLOR_BAYER_GB2BGRA', 'COLOR_BAYER_GB2BGR_EA', 'COLOR_BAYER_GB2BGR_VNG', 'COLOR_BAYER_GB2GRAY', 'COLOR_BAYER_GB2RGB', 'COLOR_BAYER_GB2RGBA', 'COLOR_BAYER_GB2RGB_EA', 'COLOR_BAYER_GB2RGB_VNG', 'COLOR_BAYER_GR2BGR', 'COLOR_BAYER_GR2BGRA', 'COLOR_BAYER_GR2BGR_EA', 'COLOR_BAYER_GR2BGR_VNG', 'COLOR_BAYER_GR2GRAY', 'COLOR_BAYER_GR2RGB', 'COLOR_BAYER_GR2RGBA', 'COLOR_BAYER_GR2RGB_EA', 'COLOR_BAYER_GR2RGB_VNG', 'COLOR_BAYER_RG2BGR', 'COLOR_BAYER_RG2BGRA', 'COLOR_BAYER_RG2BGR_EA', 'COLOR_BAYER_RG2BGR_VNG', 'COLOR_BAYER_RG2GRAY', 'COLOR_BAYER_RG2RGB', 'COLOR_BAYER_RG2RGBA', 'COLOR_BAYER_RG2RGB_EA', 'COLOR_BAYER_RG2RGB_VNG', 'COLOR_BGR2BGR555', 'COLOR_BGR2BGR565', 'COLOR_BGR2BGRA', 'COLOR_BGR2GRAY', 'COLOR_BGR2HLS', 'COLOR_BGR2HLS_FULL', 'COLOR_BGR2HSV', 'COLOR_BGR2HSV_FULL', 'COLOR_BGR2LAB', 'COLOR_BGR2LUV', 'COLOR_BGR2Lab', 'COLOR_BGR2Luv', 'COLOR_BGR2RGB', 'COLOR_BGR2RGBA', 'COLOR_BGR2XYZ', 'COLOR_BGR2YCR_CB', 'COLOR_BGR2YCrCb', 'COLOR_BGR2YUV', 'COLOR_BGR2YUV_I420', 'COLOR_BGR2YUV_IYUV', 'COLOR_BGR2YUV_YV12', 'COLOR_BGR5552BGR', 'COLOR_BGR5552BGRA', 'COLOR_BGR5552GRAY', 'COLOR_BGR5552RGB', 'COLOR_BGR5552RGBA', 'COLOR_BGR5652BGR', 'COLOR_BGR5652BGRA', 'COLOR_BGR5652GRAY', 'COLOR_BGR5652RGB', 'COLOR_BGR5652RGBA', 'COLOR_BGRA2BGR', 'COLOR_BGRA2BGR555', 'COLOR_BGRA2BGR565', 'COLOR_BGRA2GRAY', 'COLOR_BGRA2RGB', 'COLOR_BGRA2RGBA', 'COLOR_BGRA2YUV_I420', 'COLOR_BGRA2YUV_IYUV', 'COLOR_BGRA2YUV_YV12', 'COLOR_BayerBG2BGR', 'COLOR_BayerBG2BGRA', 'COLOR_BayerBG2BGR_EA', 'COLOR_BayerBG2BGR_VNG', 'COLOR_BayerBG2GRAY', 'COLOR_BayerBG2RGB', 'COLOR_BayerBG2RGBA', 'COLOR_BayerBG2RGB_EA', 'COLOR_BayerBG2RGB_VNG', 'COLOR_BayerGB2BGR', 'COLOR_BayerGB2BGRA', 'COLOR_BayerGB2BGR_EA', 'COLOR_BayerGB2BGR_VNG', 'COLOR_BayerGB2GRAY', 'COLOR_BayerGB2RGB', 'COLOR_BayerGB2RGBA', 'COLOR_BayerGB2RGB_EA', 'COLOR_BayerGB2RGB_VNG', 'COLOR_BayerGR2BGR', 'COLOR_BayerGR2BGRA', 'COLOR_BayerGR2BGR_EA', 'COLOR_BayerGR2BGR_VNG', 'COLOR_BayerGR2GRAY', 'COLOR_BayerGR2RGB', 'COLOR_BayerGR2RGBA', 'COLOR_BayerGR2RGB_EA', 'COLOR_BayerGR2RGB_VNG', 'COLOR_BayerRG2BGR', 'COLOR_BayerRG2BGRA', 'COLOR_BayerRG2BGR_EA', 'COLOR_BayerRG2BGR_VNG', 'COLOR_BayerRG2GRAY', 'COLOR_BayerRG2RGB', 'COLOR_BayerRG2RGBA', 'COLOR_BayerRG2RGB_EA', 'COLOR_BayerRG2RGB_VNG', 'COLOR_COLORCVT_MAX', 'COLOR_GRAY2BGR', 'COLOR_GRAY2BGR555', 'COLOR_GRAY2BGR565', 'COLOR_GRAY2BGRA', 'COLOR_GRAY2RGB', 'COLOR_GRAY2RGBA', 'COLOR_HLS2BGR', 'COLOR_HLS2BGR_FULL', 'COLOR_HLS2RGB', 'COLOR_HLS2RGB_FULL', 'COLOR_HSV2BGR', 'COLOR_HSV2BGR_FULL', 'COLOR_HSV2RGB', 'COLOR_HSV2RGB_FULL', 'COLOR_LAB2BGR', 'COLOR_LAB2LBGR', 'COLOR_LAB2LRGB', 'COLOR_LAB2RGB', 'COLOR_LBGR2LAB', 'COLOR_LBGR2LUV', 'COLOR_LBGR2Lab', 'COLOR_LBGR2Luv', 'COLOR_LRGB2LAB', 'COLOR_LRGB2LUV', 'COLOR_LRGB2Lab', 'COLOR_LRGB2Luv', 'COLOR_LUV2BGR', 'COLOR_LUV2LBGR', 'COLOR_LUV2LRGB', 'COLOR_LUV2RGB', 'COLOR_Lab2BGR', 'COLOR_Lab2LBGR', 'COLOR_Lab2LRGB', 'COLOR_Lab2RGB', 'COLOR_Luv2BGR', 'COLOR_Luv2LBGR', 'COLOR_Luv2LRGB', 'COLOR_Luv2RGB', 'COLOR_M_RGBA2RGBA', 'COLOR_RGB2BGR', 'COLOR_RGB2BGR555', 'COLOR_RGB2BGR565', 'COLOR_RGB2BGRA', 'COLOR_RGB2GRAY', 'COLOR_RGB2HLS', 'COLOR_RGB2HLS_FULL', 'COLOR_RGB2HSV', 'COLOR_RGB2HSV_FULL', 'COLOR_RGB2LAB', 'COLOR_RGB2LUV', 'COLOR_RGB2Lab', 'COLOR_RGB2Luv', 'COLOR_RGB2RGBA', 'COLOR_RGB2XYZ', 'COLOR_RGB2YCR_CB', 'COLOR_RGB2YCrCb', 'COLOR_RGB2YUV', 'COLOR_RGB2YUV_I420', 'COLOR_RGB2YUV_IYUV', 'COLOR_RGB2YUV_YV12', 'COLOR_RGBA2BGR', 'COLOR_RGBA2BGR555', 'COLOR_RGBA2BGR565', 'COLOR_RGBA2BGRA', 'COLOR_RGBA2GRAY', 'COLOR_RGBA2M_RGBA', 'COLOR_RGBA2RGB', 'COLOR_RGBA2YUV_I420', 'COLOR_RGBA2YUV_IYUV', 'COLOR_RGBA2YUV_YV12', 'COLOR_RGBA2mRGBA', 'COLOR_XYZ2BGR', 'COLOR_XYZ2RGB', 'COLOR_YCR_CB2BGR', 'COLOR_YCR_CB2RGB', 'COLOR_YCrCb2BGR', 'COLOR_YCrCb2RGB', 'COLOR_YUV2BGR', 'COLOR_YUV2BGRA_I420', 'COLOR_YUV2BGRA_IYUV', 'COLOR_YUV2BGRA_NV12', 'COLOR_YUV2BGRA_NV21', 'COLOR_YUV2BGRA_UYNV', 'COLOR_YUV2BGRA_UYVY', 'COLOR_YUV2BGRA_Y422', 'COLOR_YUV2BGRA_YUNV', 'COLOR_YUV2BGRA_YUY2', 'COLOR_YUV2BGRA_YUYV', 'COLOR_YUV2BGRA_YV12', 'COLOR_YUV2BGRA_YVYU', 'COLOR_YUV2BGR_I420', 'COLOR_YUV2BGR_IYUV', 'COLOR_YUV2BGR_NV12', 'COLOR_YUV2BGR_NV21', 'COLOR_YUV2BGR_UYNV', 'COLOR_YUV2BGR_UYVY', 'COLOR_YUV2BGR_Y422', 'COLOR_YUV2BGR_YUNV', 'COLOR_YUV2BGR_YUY2', 'COLOR_YUV2BGR_YUYV', 'COLOR_YUV2BGR_YV12', 'COLOR_YUV2BGR_YVYU', 'COLOR_YUV2GRAY_420', 'COLOR_YUV2GRAY_I420', 'COLOR_YUV2GRAY_IYUV', 'COLOR_YUV2GRAY_NV12', 'COLOR_YUV2GRAY_NV21', 'COLOR_YUV2GRAY_UYNV', 'COLOR_YUV2GRAY_UYVY', 'COLOR_YUV2GRAY_Y422', 'COLOR_YUV2GRAY_YUNV', 'COLOR_YUV2GRAY_YUY2', 'COLOR_YUV2GRAY_YUYV', 'COLOR_YUV2GRAY_YV12', 'COLOR_YUV2GRAY_YVYU', 'COLOR_YUV2RGB', 'COLOR_YUV2RGBA_I420', 'COLOR_YUV2RGBA_IYUV', 'COLOR_YUV2RGBA_NV12', 'COLOR_YUV2RGBA_NV21', 'COLOR_YUV2RGBA_UYNV', 'COLOR_YUV2RGBA_UYVY', 'COLOR_YUV2RGBA_Y422', 'COLOR_YUV2RGBA_YUNV', 'COLOR_YUV2RGBA_YUY2', 'COLOR_YUV2RGBA_YUYV', 'COLOR_YUV2RGBA_YV12', 'COLOR_YUV2RGBA_YVYU', 'COLOR_YUV2RGB_I420', 'COLOR_YUV2RGB_IYUV', 'COLOR_YUV2RGB_NV12', 'COLOR_YUV2RGB_NV21', 'COLOR_YUV2RGB_UYNV', 'COLOR_YUV2RGB_UYVY', 'COLOR_YUV2RGB_Y422', 'COLOR_YUV2RGB_YUNV', 'COLOR_YUV2RGB_YUY2', 'COLOR_YUV2RGB_YUYV', 'COLOR_YUV2RGB_YV12', 'COLOR_YUV2RGB_YVYU', 'COLOR_YUV420P2BGR', 'COLOR_YUV420P2BGRA', 'COLOR_YUV420P2GRAY', 'COLOR_YUV420P2RGB', 'COLOR_YUV420P2RGBA', 'COLOR_YUV420SP2BGR', 'COLOR_YUV420SP2BGRA', 'COLOR_YUV420SP2GRAY', 'COLOR_YUV420SP2RGB', 'COLOR_YUV420SP2RGBA', 'COLOR_YUV420p2BGR', 'COLOR_YUV420p2BGRA', 'COLOR_YUV420p2GRAY', 'COLOR_YUV420p2RGB', 'COLOR_YUV420p2RGBA', 'COLOR_YUV420sp2BGR', 'COLOR_YUV420sp2BGRA', 'COLOR_YUV420sp2GRAY', 'COLOR_YUV420sp2RGB', 'COLOR_YUV420sp2RGBA', 'COLOR_mRGBA2RGBA']\n"
     ]
    }
   ],
   "source": [
    "flags = [i for i in dir(cv2) if i.startswith('COLOR_')]\n",
    "print(flags)"
   ]
  },
  {
   "cell_type": "markdown",
   "metadata": {},
   "source": [
    "## cv2.cvtColor(src, code [, dst [, dstCn]]) → dst\n",
    "    cv2Color함수는 색공간 변환을 위해 사용하는 함수이다.\n",
    "    첫번째 인자 src에는 색공간을 변환할 이미지를 집어넣고\n",
    "    두번째 인자 code에는 색공간 변환 방법을 지정해주면 된다.\n",
    "    \n",
    "    색공간 변환방법에는 앞서 설명한 cv::ColorConversionCodes 를 참고하면 된다. 대표적으로 BGR로 이루어진 이미지를 Grayscale로 변환하는 cv2.COLOR_BGR2GRAY 코드와 BGR을 HSV로 변환하는 cv2.BGR2HSV가 있다. 아래 코드는 BGR를 HSV로 변환하는 코드이다."
   ]
  },
  {
   "cell_type": "code",
   "execution_count": 4,
   "metadata": {
    "ExecuteTime": {
     "end_time": "2020-08-19T07:21:51.227326Z",
     "start_time": "2020-08-19T07:21:51.217353Z"
    }
   },
   "outputs": [],
   "source": [
    "def hsv():\n",
    "    blue = np.uint8([[[255, 0, 0]]])\n",
    "    green = np.uint8([[[0, 255, 0]]])\n",
    "    red = np.uint8([[[0, 0, 255]]])\n",
    "    \n",
    "    hsv_blue = cv2.cvtColor(blue, cv2.COLOR_BGR2HSV)\n",
    "    hsv_green = cv2.cvtColor(green, cv2.COLOR_BGR2HSV)\n",
    "    hsv_red = cv2.cvtColor(red, cv2.COLOR_BGR2HSV)\n",
    "    \n",
    "    print('HSV for Blue', hsv_blue)\n",
    "    print('HSV for Green', hsv_green)\n",
    "    print('HSV for Red', hsv_red)"
   ]
  },
  {
   "cell_type": "code",
   "execution_count": 5,
   "metadata": {
    "ExecuteTime": {
     "end_time": "2020-08-19T07:21:51.819388Z",
     "start_time": "2020-08-19T07:21:51.801785Z"
    }
   },
   "outputs": [
    {
     "name": "stdout",
     "output_type": "stream",
     "text": [
      "HSV for Blue [[[120 255 255]]]\n",
      "HSV for Green [[[ 60 255 255]]]\n",
      "HSV for Red [[[  0 255 255]]]\n"
     ]
    }
   ],
   "source": [
    "hsv()"
   ]
  },
  {
   "cell_type": "markdown",
   "metadata": {},
   "source": [
    "     BGR 색공간을 HSV로 변환할 때 값이 어떻게 변화하는지 잘 알 수 있다.\n",
    "     \n",
    "     Blue (255, 0, 0) → (120, 255, 255)\n",
    "     Green (0, 255, 0) → (60, 255, 255)\n",
    "     Red (0, 0, 255) → (0, 255, 255)\n",
    "     BGR 색 맵핑을 어떻게 하느냐에 따라서 HSV 값이 변할 수 있다."
   ]
  },
  {
   "cell_type": "markdown",
   "metadata": {},
   "source": [
    "# Color Space Tracking 색공간 추적하기"
   ]
  },
  {
   "cell_type": "code",
   "execution_count": 12,
   "metadata": {
    "ExecuteTime": {
     "end_time": "2020-08-19T07:31:05.606046Z",
     "start_time": "2020-08-19T07:31:05.588092Z"
    }
   },
   "outputs": [],
   "source": [
    "def tracking():\n",
    "    try:\n",
    "        print(\"카메라 구동\")\n",
    "        cap = cv2.VideoCapture('KakaoTalk_20200724_175615914.mp4')\n",
    "    except:\n",
    "        print(\"카메라 구동 실패\")\n",
    "        return\n",
    "    \n",
    "    while True:\n",
    "        ret, frame = cap.read()\n",
    "        \n",
    "        if ret:\n",
    "            hsv = cv2.cvtColor(frame, cv2.COLOR_BGR2HSV)\n",
    "            \n",
    "            lower_blue = np.array([110, 100, 100])\n",
    "            upper_blue = np.array([150, 255, 255])\n",
    "            lower_green = np.array([50, 100, 100])\n",
    "            upper_green = np.array([90, 255, 255])\n",
    "            lower_red = np.array([-10, 100, 100])\n",
    "            upper_red = np.array([30, 255, 255])\n",
    "            \n",
    "            mask_blue = cv2.inRange(hsv, lower_blue, upper_blue)\n",
    "            mask_green = cv2.inRange(hsv, lower_green, upper_green)\n",
    "            mask_red = cv2.inRange(hsv, lower_red, upper_red)\n",
    "            \n",
    "            res1 = cv2.bitwise_and(frame, frame, mask = mask_blue)\n",
    "            res2 = cv2.bitwise_and(frame, frame, mask = mask_green)\n",
    "            res3 = cv2.bitwise_and(frame, frame, mask = mask_red)\n",
    "            \n",
    "            cv2.imshow('Origianl', frame)\n",
    "            cv2.imshow('Blue', res1)\n",
    "            cv2.imshow('Green', res2)\n",
    "            cv2.imshow('Red', res3)\n",
    "            \n",
    "            k = cv2.waitKey(0) & 0xFF\n",
    "            if k == 27:\n",
    "                break\n",
    "                \n",
    "        else:\n",
    "            print(\"비디오 종료\")\n",
    "            break\n",
    "    \n",
    "    cap.release()\n",
    "    cv2.destroyAllWindows()"
   ]
  },
  {
   "cell_type": "code",
   "execution_count": 14,
   "metadata": {
    "ExecuteTime": {
     "end_time": "2020-08-19T07:33:39.178057Z",
     "start_time": "2020-08-19T07:31:30.845965Z"
    }
   },
   "outputs": [
    {
     "name": "stdout",
     "output_type": "stream",
     "text": [
      "카메라 구동\n"
     ]
    }
   ],
   "source": [
    "tracking()"
   ]
  },
  {
   "cell_type": "markdown",
   "metadata": {},
   "source": [
    "    대부분의 함수들에 대해서는 우리가 이미 일부분 알고있는 것들이다. 간단히 설명하자면 VideoCapture(0)을 통해 웹캠 구현시 생성되는 객체를 cap에 초기화 한 후, 프레임 단위로 이미지를 읽어들여 frame에 저장한다. 그리고 색공간이 BGR로 되어 있는 이 frame을 HSV 형태로 변환 시켜 준다. 그 다음 내가 원하는 부분의 색깔만 masking 되도록 범위를 지정해준다. lower과 upper로 구분하여 최솟값과 최댓값을 지정해준다. 이 때, inRange 함수를 사용한다.\n",
    "    \n",
    "## cv2.inRange(src, lowerb, upperb [, dst]) -> dst\n",
    "    첫번째 인자에는 이미지, 두번째와 세번째에는 각각 하한선과 상한선을 나타낸다. 이 함수는 하한선과 상한선으로 범위를 지정한 뒤, 이 이미지에서 각각의 픽셀 값을 확인하여 지정한 범위에 값이 존재하면 그 값을 그대로, 그렇지 않은 부분은 0(검은색)으로 채워서 결과값을 반환한다.\n",
    "    \n",
    "    mask_blue = cv2.inRange(hsv, lower_blue, upper_blue)\n",
    "    mask_green = cv2.inRange(hsv, lower_green, upper_green)\n",
    "    mask_red = cv2.inRange(hsv, lower_red, upper_red)\n",
    "    res1 = cv2.bitwise_and(frame, frame, mask = mask_blue)\n",
    "    res2 = cv2.bitwise_and(frame, frame, mask = mask_green)\n",
    "    res3 = cv2.bitwise_and(frame, frame, mask = mask_red)\n",
    "    \n",
    "    이 코드를 통해 각각의 프레임 이미지에 blue, green, red색상별로 masking 한 후, 비트연산을 통해 mask로 씌워진 부분만 이미지로 출력이 되도록 조정한다. 여기서 lowerb, upperb의 범위를 조정함에 따라서 범위를 좁혀 masking을 까다롭게 할지, 범위를 넓혀 masking을 좀 널널하게 할지 조절할 수가 있다.\n",
    "    "
   ]
  }
 ],
 "metadata": {
  "hide_input": false,
  "kernelspec": {
   "display_name": "Python 3",
   "language": "python",
   "name": "python3"
  },
  "language_info": {
   "codemirror_mode": {
    "name": "ipython",
    "version": 3
   },
   "file_extension": ".py",
   "mimetype": "text/x-python",
   "name": "python",
   "nbconvert_exporter": "python",
   "pygments_lexer": "ipython3",
   "version": "3.7.4"
  },
  "varInspector": {
   "cols": {
    "lenName": 16,
    "lenType": 16,
    "lenVar": 40
   },
   "kernels_config": {
    "python": {
     "delete_cmd_postfix": "",
     "delete_cmd_prefix": "del ",
     "library": "var_list.py",
     "varRefreshCmd": "print(var_dic_list())"
    },
    "r": {
     "delete_cmd_postfix": ") ",
     "delete_cmd_prefix": "rm(",
     "library": "var_list.r",
     "varRefreshCmd": "cat(var_dic_list()) "
    }
   },
   "types_to_exclude": [
    "module",
    "function",
    "builtin_function_or_method",
    "instance",
    "_Feature"
   ],
   "window_display": false
  }
 },
 "nbformat": 4,
 "nbformat_minor": 4
}
