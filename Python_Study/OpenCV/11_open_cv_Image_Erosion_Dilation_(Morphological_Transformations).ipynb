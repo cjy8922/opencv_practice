{
 "cells": [
  {
   "cell_type": "code",
   "execution_count": 1,
   "metadata": {
    "ExecuteTime": {
     "end_time": "2020-09-10T21:57:08.597043Z",
     "start_time": "2020-09-10T21:57:07.779376Z"
    }
   },
   "outputs": [],
   "source": [
    "import cv2\n",
    "import numpy as np\n",
    "import matplotlib.pyplot as plt"
   ]
  },
  {
   "cell_type": "markdown",
   "metadata": {},
   "source": [
    "# Morphological Transformation\n",
    "    이미지 프로세싱에서 Morphology(형태학)는 이미지를 Segmentation 하여 단순화, 제거, 보정을 통해 형태를 파악하는 목적으로 사용된다. 기본적으로 바이너리 이미지 상에서 이루어지며 원본 이미지와 이미지에 가해지는 변형을 결정하는 구조화된 요소(커널과 같은 역할), 2개의 입력값을 가진다. 그래서 Morphological Transformation(형태학적 변환)역시 이미지 필터링을 사용하여 영역을 변화시키는 방법중 하나라고 인식할 수 있다.\n",
    "    \n",
    "    일반적으로 Binary나 Grayscale 이미지에 사용되며, Dilation(팽창), Erosion(침식) 그리고 이 두개를 조합한 Opening과 Closing이 있다."
   ]
  },
  {
   "cell_type": "markdown",
   "metadata": {},
   "source": [
    "## cv2.getStructuringElement(shape, ksize [, anchor]) → retval\n",
    "    구조화 요소(Structuring Element) 커널을 구하기 위한 방법은 cv2.getStructuringElement 함수를 사용하면 된다.\n",
    "    \n",
    "    1. shape : 구조화 요소 커널의 모양\n",
    "    - cv2.MORPH_CROSS : 십자가형\n",
    "    - cv2.MORPH_ELLIPSE : 타원형\n",
    "    - cv2.MORPH_RECT : 직사각형\n",
    "    cv::MorphShapes 참고\n",
    "    \n",
    "    2, ksize : 구조화 요소 커널의 크기\n",
    "    3. anchor : 구조화 요소 커널의 기준점. default 값 (-1, -1)은 기준점을 중심으로 잡는다. 해당 값은 오직 cv2.MORPH_CROSS 모양을 사용할 때만 영향을 준다. cv2.MORPH_CROSS의 경우에는 해당 기준점이 있는 열과 행의 값만 1로 채워진다."
   ]
  },
  {
   "cell_type": "code",
   "execution_count": 2,
   "metadata": {
    "ExecuteTime": {
     "end_time": "2020-09-10T21:57:11.042094Z",
     "start_time": "2020-09-10T21:57:11.024201Z"
    }
   },
   "outputs": [
    {
     "data": {
      "text/plain": [
       "array([[0, 1, 0, 0, 0],\n",
       "       [1, 1, 1, 1, 1],\n",
       "       [0, 1, 0, 0, 0],\n",
       "       [0, 1, 0, 0, 0],\n",
       "       [0, 1, 0, 0, 0]], dtype=uint8)"
      ]
     },
     "execution_count": 2,
     "metadata": {},
     "output_type": "execute_result"
    }
   ],
   "source": [
    "cv2.getStructuringElement(cv2.MORPH_CROSS, (5, 5), anchor = (1, 1))"
   ]
  },
  {
   "cell_type": "code",
   "execution_count": 3,
   "metadata": {
    "ExecuteTime": {
     "end_time": "2020-09-10T21:57:12.089052Z",
     "start_time": "2020-09-10T21:57:12.081077Z"
    }
   },
   "outputs": [
    {
     "data": {
      "text/plain": [
       "array([[0, 0, 0, 1, 0, 0, 0],\n",
       "       [0, 1, 1, 1, 1, 1, 0],\n",
       "       [1, 1, 1, 1, 1, 1, 1],\n",
       "       [1, 1, 1, 1, 1, 1, 1],\n",
       "       [1, 1, 1, 1, 1, 1, 1],\n",
       "       [0, 1, 1, 1, 1, 1, 0],\n",
       "       [0, 0, 0, 1, 0, 0, 0]], dtype=uint8)"
      ]
     },
     "execution_count": 3,
     "metadata": {},
     "output_type": "execute_result"
    }
   ],
   "source": [
    "cv2.getStructuringElement(cv2.MORPH_ELLIPSE, (7, 7))"
   ]
  },
  {
   "cell_type": "code",
   "execution_count": 4,
   "metadata": {
    "ExecuteTime": {
     "end_time": "2020-09-10T21:57:12.453615Z",
     "start_time": "2020-09-10T21:57:12.445636Z"
    }
   },
   "outputs": [
    {
     "data": {
      "text/plain": [
       "array([[1, 1, 1, 1, 1],\n",
       "       [1, 1, 1, 1, 1],\n",
       "       [1, 1, 1, 1, 1],\n",
       "       [1, 1, 1, 1, 1],\n",
       "       [1, 1, 1, 1, 1]], dtype=uint8)"
      ]
     },
     "execution_count": 4,
     "metadata": {},
     "output_type": "execute_result"
    }
   ],
   "source": [
    "cv2.getStructuringElement(cv2.MORPH_RECT, (5, 5))"
   ]
  },
  {
   "cell_type": "markdown",
   "metadata": {},
   "source": [
    "# 1. Erosion (침식)\n",
    "    원본 이미지의 각 픽셀에 structuring element(구조화 요소)를 적용해 하나라도 0이 있으면 대상 픽셀을 제거하는 방법이다. 아래 예제는 원본 이미지에 사각형 모양의 구조화 요소 커널을 적용시킨 모습이다. 원본 이미지와 결과 이미지를 보면 ★★ 검은색의 영역이 흰색을 침식해 들어가는 것을 확인할 수 있다. 결과적으로 이 방법은 작은 Object를 제거하는데 효과가 있다.\n",
    "         \n",
    "    [ 1, 1, 0, 0, 1, 1 ] * [ 1, 1, 1 ] = [ 0, 0, 0, 0, 0, 0 ]\n",
    "    [ 1, 1, 0, 0, 1, 1 ]   [ 1, 1, 1 ]   [ 0, 0, 0, 0, 0, 0 ]\n",
    "    [ 1, 1, 1, 1, 1, 1 ]   [ 1, 1, 1 ]   [ 0, 0, 0, 0, 0, 0 ]\n",
    "    [ 1, 1, 1, 1, 1, 1 ]                 [ 0, 1, 1, 1, 1, 0 ]\n",
    "    [ 1, 1, 1, 1, 1, 1 ]                 [ 0, 1, 1, 1, 1, 0 ]\n",
    "    [ 1, 1, 1, 1, 1, 1 ]                 [ 0, 0, 0, 0, 0, 0 ]\n",
    "    \n",
    "    구조화 요소 커널의 모양이 사각형이 아니라 cross 혹은 타원형인 경우에는 이미지에 커널을 올릴 때 커널 전체를 인식하는 것이 아니라 커널에서 1인 부분만 인식하게 된다. 따라서 이미지 위에서 커널이 움직일때 각각 cross 형태로, 타원형태로 움직이게 된다.\n",
    "    \n",
    "## cv2.erode(src, kernel [, dst [, anchor [, iterations [, borderType [, borderValue]]]]]) → dst\n",
    "    특정 구조화 요소를 사용하여 이미지를 침식시키는 함수\n",
    "    1. src : 입력이미지. 채널 수는 상관 없으나 다음과 같은 이미지 데이터만 사용할 수 있다. (CV_8U, CV_16U, CV_16S, CV_32F, CV_64F)\n",
    "    2. kernel : 침식에 사용할 구조화 요소 커널. 앞서 cv2.getStructuringElement로 생성할 수 있다.\n",
    "    3. anchor : 구조화 요소 안에서 사용할 기준점. default로 (-1, -1)이 지정되어 있어 구조화 요소 중심을 기준으로 잡는다. 앞서 filter2D에서의 anchor 처럼 침식할 픽셀의 위치가 구조화 요소 안에서 어디에 위치해야 하는지 지정해준다.\n",
    "    4. iterations : 침식을 반복할 횟수를 지정한다."
   ]
  },
  {
   "cell_type": "code",
   "execution_count": 5,
   "metadata": {
    "ExecuteTime": {
     "end_time": "2020-09-10T21:57:17.562363Z",
     "start_time": "2020-09-10T21:57:17.279068Z"
    }
   },
   "outputs": [
    {
     "data": {
      "image/png": "[encoded data removed]",
      "text/plain": [
       "<Figure size 576x576 with 4 Axes>"
      ]
     },
     "metadata": {
      "needs_background": "light"
     },
     "output_type": "display_data"
    }
   ],
   "source": [
    "img = cv2.imread('hangul.jpg')\n",
    "res, img = cv2.threshold(img, 127, 255, cv2.THRESH_BINARY_INV)\n",
    "\n",
    "kernel = {}\n",
    "kernel[0] = cv2.getStructuringElement(cv2.MORPH_RECT, (11, 11))\n",
    "kernel[1] = cv2.getStructuringElement(cv2.MORPH_CROSS, (11, 11))\n",
    "kernel[2] = cv2.getStructuringElement(cv2.MORPH_ELLIPSE, (11, 11))\n",
    "titles = [\"Rectangle\", \"Cross\", \"Ellipse\"]\n",
    "\n",
    "plt.figure(figsize=(8, 8))\n",
    "plt.subplot(2, 2, 1)\n",
    "plt.title('original')\n",
    "plt.imshow(img)\n",
    "plt.xticks([])\n",
    "plt.yticks([])\n",
    "\n",
    "for i in range(3):\n",
    "    erosion = cv2.erode(img, kernel[i])\n",
    "    plt.subplot(2, 2, i+2)\n",
    "    plt.title(titles[i])\n",
    "    plt.imshow(erosion)\n",
    "    plt.axis(\"off\")\n",
    "    \n",
    "plt.tight_layout()\n",
    "plt.show()"
   ]
  },
  {
   "cell_type": "markdown",
   "metadata": {},
   "source": [
    "# 2. Dilation (팽창)\n",
    "    팽창은 원본 이미지의 각 픽셀에 structuring element(구조화 요소)를 적용해 하나라도 1이 있으면 대상 픽셀을 1로 만드는 방법이다. 아래 예제는 원본 이미지에 사각형 모양의 구조화 요소 커널을 적용시킨 모습이다. 원본 이미지와 결과 이미지를 보면 아까와는 반대로 ★★ 흰색의 영역이 더 넓어지는 것을 확인할 수 있다. 결과적으로 경계가 조금 부드러워지고 구멍이 메꾸어지는 효과가 있다.\n",
    "         \n",
    "    [ 0, 0, 0, 0, 0, 0 ] * [ 1, 1, 1 ] = [ 0, 0, 0, 0, 0, 0 ]\n",
    "    [ 0, 0, 0, 0, 0, 0 ]   [ 1, 1, 1 ]   [ 0, 0, 0, 0, 0, 0 ]\n",
    "    [ 0, 0, 0, 0, 0, 0 ]   [ 1, 1, 1 ]   [ 1, 1, 1, 1, 1, 1 ]\n",
    "    [ 0, 1, 1, 1, 1, 0 ]                 [ 1, 1, 1, 1, 1, 1 ]\n",
    "    [ 0, 1, 1, 1, 1, 0 ]                 [ 1, 1, 1, 1, 1, 1 ]\n",
    "    [ 0, 0, 0, 0, 0, 0 ]                 [ 1, 1, 1, 1, 1, 1 ]\n",
    "    \n",
    "## cv2.dilate(src, kernel [, dst [, anchor [, iterations [, borderType [, borderValue]]]]]) -> dst\n",
    "    특정 구조화 요소를 사용하여 이미지를 팽창시키는 함수\n",
    "    1. src : 입력이미지. 채널 수는 상관 없으나 다음과 같은 이미지 데이터만 사용할 수 있다. (CV_8U, CV_16U, CV_16S, CV_32F, CV_64F)\n",
    "    2. kernel : 팽창에 사용할 구조화 요소 커널. 앞서 cv2.getStructuringElement로 생성할 수 있다.\n",
    "    3. anchor : 구조화 요소 안에서 사용할 기준점. default로 (-1, -1)이 지정되어 있어 구조화 요소 중심을 기준으로 잡는다. 앞서 filter2D에서의 anchor 처럼 팽창할 픽셀의 위치가 구조화 요소 안에서 어디에 위치해야 하는지 지정해준다.\n",
    "    4. iterations : 팽창을 반복할 횟수를 지정한다."
   ]
  },
  {
   "cell_type": "code",
   "execution_count": 6,
   "metadata": {
    "ExecuteTime": {
     "end_time": "2020-09-10T22:00:31.916353Z",
     "start_time": "2020-09-10T22:00:31.693885Z"
    }
   },
   "outputs": [
    {
     "data": {
      "image/png": "[encoded data removed]",
      "text/plain": [
       "<Figure size 576x576 with 4 Axes>"
      ]
     },
     "metadata": {
      "needs_background": "light"
     },
     "output_type": "display_data"
    }
   ],
   "source": [
    "img2 = cv2.imread('hangul.jpg')\n",
    "res, img2 = cv2.threshold(img, 127, 255, cv2.THRESH_BINARY_INV)\n",
    "\n",
    "kernel = {}\n",
    "kernel[0] = cv2.getStructuringElement(cv2.MORPH_RECT, (11, 11))\n",
    "kernel[1] = cv2.getStructuringElement(cv2.MORPH_CROSS, (11, 11))\n",
    "kernel[2] = cv2.getStructuringElement(cv2.MORPH_ELLIPSE, (11, 11))\n",
    "titles = [\"Rectangle\", \"Cross\", \"Ellipse\"]\n",
    "\n",
    "plt.figure(figsize=(8, 8))\n",
    "plt.subplot(2, 2, 1)\n",
    "plt.title('original')\n",
    "plt.imshow(img)\n",
    "plt.xticks([])\n",
    "plt.yticks([])\n",
    "\n",
    "for i in range(3):\n",
    "    dilation = cv2.dilate(img, kernel[i])\n",
    "    plt.subplot(2, 2, i+2)\n",
    "    plt.title(titles[i])\n",
    "    plt.imshow(dilation)\n",
    "    plt.axis(\"off\")\n",
    "    \n",
    "plt.tight_layout()\n",
    "plt.show()"
   ]
  },
  {
   "cell_type": "markdown",
   "metadata": {},
   "source": [
    "# 3. Opening & Closing\n",
    "    Opening : 이미지에 Erosion(침식) 적용 후 Dilation(팽창) 적용하는 것으로 영역이 점점 둥글게 된다. 따라서 점 잡음 이나 작은 물체, 돌기 등을 제거하는데 적합하다.\n",
    "    Closing : 이미지에 Dilation(팽창) 적용 후 Erosion(침식) 적용하는 것으로 영역과 영역이 서로 붙기 때문에 이미지의 전체적인 윤곽을 파악하기에 적합하다.\n",
    "    \n",
    "    (Opening)\n",
    "    [ 1, 1, 0, 0, 1, 1 ] * [ 1, 1, 1 ] = [ 0, 0, 0, 0, 0, 0 ] * [ 1, 1, 1 ] = [ 0, 0, 0, 0, 0, 0 ]\n",
    "    [ 1, 1, 0, 0, 1, 1 ]   [ 1, 1, 1 ]   [ 0, 0, 0, 0, 0, 0 ]   [ 1, 1, 1 ]   [ 0, 0, 0, 0, 0, 0 ]\n",
    "    [ 1, 1, 1, 1, 1, 1 ]   [ 1, 1, 1 ]   [ 0, 0, 0, 0, 0, 0 ]   [ 1, 1, 1 ]   [ 1, 1, 1, 1, 1, 1 ]\n",
    "    [ 1, 1, 1, 1, 1, 1 ]                 [ 0, 1, 1, 1, 1, 0 ]                 [ 1, 1, 1, 1, 1, 1 ]\n",
    "    [ 1, 1, 1, 1, 1, 1 ]                 [ 0, 1, 1, 1, 1, 0 ]                 [ 1, 1, 1, 1, 1, 1 ]\n",
    "    [ 1, 1, 1, 1, 1, 1 ]                 [ 0, 0, 0, 0, 0, 0 ]                 [ 1, 1, 1, 1, 1, 1 ]\n",
    "    \n",
    "    (Closing)\n",
    "    [ 1, 1, 0, 0, 0, 0 ] * [ 1, 1, 1 ] = [ 1, 1, 1, 0, 0, 0 ] * [ 1, 1, 1 ] = [ 0, 0, 0, 0, 0, 0 ]\n",
    "    [ 1, 1, 0, 0, 0, 0 ]   [ 1, 1, 1 ]   [ 1, 1, 1, 0, 0, 0 ]   [ 1, 1, 1 ]   [ 0, 1, 0, 0, 0, 0 ]\n",
    "    [ 1, 1, 0, 0, 0, 0 ]   [ 1, 1, 1 ]   [ 1, 1, 1, 1, 1, 1 ]   [ 1, 1, 1 ]   [ 0, 1, 0, 0, 0, 0 ]\n",
    "    [ 1, 1, 1, 1, 1, 1 ]                 [ 1, 1, 1, 1, 1, 1 ]                 [ 0, 1, 1, 1, 1, 0 ]\n",
    "    [ 0, 0, 0, 0, 0, 0 ]                 [ 1, 1, 1, 1, 1, 1 ]                 [ 0, 1, 1, 1, 1, 0 ]\n",
    "    [ 1, 1, 1, 1, 1, 1 ]                 [ 1, 1, 1, 1, 1, 1 ]                 [ 0, 0, 0, 0, 0, 0 ]"
   ]
  },
  {
   "cell_type": "markdown",
   "metadata": {},
   "source": [
    "## cv2.morphologyEx(src, op, kernel [, dst [, anchor [, iterations [, borderType [, borderValue]]]]]) → dst\n",
    "    해당 함수는 앞서 Dilation(팽창)과 Erosion(수축)의 형태학적 변환을 결합하여 연산하는데 도움을 주는 함수이다.\n",
    "    1. src : 입력이미지. 채널 수는 상관 없으나 다음과 같은 이미지 데이터만 사용할 수 있다. (CV_8U, CV_16U, CV_16S, CV_32F, CV_64F)\n",
    "    \n",
    "    ★ op : 형태학적 연산의 종류\n",
    "    cv2.MORPH_OPEN : cv2.dilate(cv2.erode(src))\n",
    "    cv2.MORPH_CLOSE : cv2.erode(cv2.dilate(src))\n",
    "    cv2.MORPH_GRADIENT : cv2.dilate(src) - cv2.erode(cv2)\n",
    "    cv2.MORPH_TOPHAT : src - opening\n",
    "    cv2.MORPH_BLACKHAT : closing - src\n",
    "    cv::MorphTypes 참고\n",
    "    \n",
    "    3. kernel : 구조화 요소 커널. 앞서 cv2.getStructuringElement로 생성할 수 있다.\n",
    "    4. anchor : 구조화 요소 커널에서의 기준점. default로 (-1, -1)이 설정되어 있으며 이는 커널의 중앙을 뜻한다.\n",
    "    5. iterations : 형태학적 변환 반복 횟수"
   ]
  },
  {
   "cell_type": "code",
   "execution_count": 9,
   "metadata": {
    "ExecuteTime": {
     "end_time": "2020-09-10T22:04:52.790876Z",
     "start_time": "2020-09-10T22:04:52.521572Z"
    }
   },
   "outputs": [
    {
     "data": {
      "image/png": "[encoded data removed]",
      "text/plain": [
       "<Figure size 576x576 with 6 Axes>"
      ]
     },
     "metadata": {
      "needs_background": "light"
     },
     "output_type": "display_data"
    }
   ],
   "source": [
    "img3 = cv2.imread('hangul.jpg')\n",
    "res, img3 = cv2.threshold(img3, 127, 255, cv2.THRESH_BINARY_INV)\n",
    "\n",
    "kernel = cv2.getStructuringElement(cv2.MORPH_ELLIPSE, (9, 9))\n",
    "opening = cv2.morphologyEx(img3, cv2.MORPH_OPEN, kernel)\n",
    "closing = cv2.morphologyEx(img3, cv2.MORPH_CLOSE, kernel)\n",
    "gradient = cv2.morphologyEx(img3, cv2.MORPH_GRADIENT, kernel)\n",
    "tophat = cv2.morphologyEx(img3, cv2.MORPH_TOPHAT, kernel)\n",
    "blackhat = cv2.morphologyEx(img3, cv2.MORPH_BLACKHAT, kernel)\n",
    "\n",
    "titles = ['original', 'opening', 'closing', 'gradient', 'tophat', 'blackhat']\n",
    "images = [img3, opening, closing, gradient, tophat, blackhat]\n",
    "\n",
    "plt.figure(figsize=(8, 8))\n",
    "for i in range(6):\n",
    "    plt.subplot(2, 3, i+1)\n",
    "    plt.imshow(images[i])\n",
    "    plt.title(titles[i])\n",
    "    plt.axis('off')\n",
    "    \n",
    "plt.tight_layout()\n",
    "plt.show()"
   ]
  }
 ],
 "metadata": {
  "hide_input": false,
  "kernelspec": {
   "display_name": "Python 3",
   "language": "python",
   "name": "python3"
  },
  "language_info": {
   "codemirror_mode": {
    "name": "ipython",
    "version": 3
   },
   "file_extension": ".py",
   "mimetype": "text/x-python",
   "name": "python",
   "nbconvert_exporter": "python",
   "pygments_lexer": "ipython3",
   "version": "3.7.4"
  },
  "varInspector": {
   "cols": {
    "lenName": 16,
    "lenType": 16,
    "lenVar": 40
   },
   "kernels_config": {
    "python": {
     "delete_cmd_postfix": "",
     "delete_cmd_prefix": "del ",
     "library": "var_list.py",
     "varRefreshCmd": "print(var_dic_list())"
    },
    "r": {
     "delete_cmd_postfix": ") ",
     "delete_cmd_prefix": "rm(",
     "library": "var_list.r",
     "varRefreshCmd": "cat(var_dic_list()) "
    }
   },
   "types_to_exclude": [
    "module",
    "function",
    "builtin_function_or_method",
    "instance",
    "_Feature"
   ],
   "window_display": false
  }
 },
 "nbformat": 4,
 "nbformat_minor": 4
}
