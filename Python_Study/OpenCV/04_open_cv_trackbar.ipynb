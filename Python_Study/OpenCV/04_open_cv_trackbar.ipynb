{
 "cells": [
  {
   "cell_type": "code",
   "execution_count": 1,
   "metadata": {},
   "outputs": [],
   "source": [
    "import cv2\n",
    "import numpy as np"
   ]
  },
  {
   "cell_type": "markdown",
   "metadata": {},
   "source": [
    "# 트랙바 만들기\n",
    "## cv2.createTrackbar(trackbarName, windowName, value, count, onChange)\n",
    "    cv2.createTrackbar('B', 'color_palette', 0, 255, onChange)\n",
    "    이 함수는 트랙바를 지정된 윈도우에 생성하는 함수이다.\n",
    "    1. 'B' : 트랙바 이름\n",
    "    2. 'color_palette' : 윈도우 이름\n",
    "    3. 0 : 트랙바 시작 값\n",
    "    4. 255 : 트랙바 끝 값\n",
    "    5. onChange : 트랙바 이벤트 발생시 수행되는 \tTrackbarCallback 콜백함수\n",
    "    \n",
    "### def onChange(x) == TrackbarCallback(pos [, userdata])\n",
    "    createTrackbar 함수에서 마지막 인자로 들어갈 TrackbarCallback 함수에는 총 2가지 인자가 들어간다.\n",
    "    1. pos : 현재 트랙바의 위치 정보\n",
    "    ( 2. userdata : 사용 방법을 아직 정확히 모르겠다. )\n",
    "    \n",
    "## cv2.getTrackbarPos(trackbarname, winname) -> retval\n",
    "    b = cv2.getTrackbarPos('B', 'color_palette')\n",
    "    이 함수는 트랙바의 현재 위치를 반환하는 함수이다. 트랙바의 현재위치를 반환하여 변수에 초기화 해준다.\n",
    "    1. 'b' : 트랙바 이름\n",
    "    2. 'color_palette' : 윈도우 이름"
   ]
  },
  {
   "cell_type": "code",
   "execution_count": 2,
   "metadata": {},
   "outputs": [],
   "source": [
    "def onChange(x):\n",
    "    pass"
   ]
  },
  {
   "cell_type": "code",
   "execution_count": 3,
   "metadata": {},
   "outputs": [],
   "source": [
    "def trackbar():\n",
    "    img = np.full((200, 512, 3), 0, np.uint8)\n",
    "    cv2.namedWindow('color_palette')\n",
    "    \n",
    "    cv2.createTrackbar('B', 'color_palette', 0, 255, onChange)\n",
    "    cv2.createTrackbar('G', 'color_palette', 0, 255, onChange)\n",
    "    cv2.createTrackbar('R', 'color_palette', 0, 255, onChange)\n",
    "    \n",
    "    switch = '0: OFF \\n1: ON'\n",
    "    cv2.createTrackbar(switch, 'color_palette', 0, 1, onChange)\n",
    "    \n",
    "    while(True):\n",
    "        cv2.imshow('color_palette', img)\n",
    "        k = cv2.waitKey(0) & 0xFF\n",
    "        if k == 27:\n",
    "            break\n",
    "        \n",
    "        b = cv2.getTrackbarPos('B', 'color_palette')\n",
    "        g = cv2.getTrackbarPos('G', 'color_palette')\n",
    "        r = cv2.getTrackbarPos('R', 'color_palette')\n",
    "        s = cv2.getTrackbarPos(switch, 'color_palette')\n",
    "        \n",
    "        if s == 0:\n",
    "            img[:] = 0\n",
    "        else:\n",
    "            img[:] = [b, g, r]\n",
    "            \n",
    "    cv2.destroyAllWindows()    "
   ]
  },
  {
   "cell_type": "code",
   "execution_count": 5,
   "metadata": {},
   "outputs": [],
   "source": [
    "trackbar()"
   ]
  }
 ],
 "metadata": {
  "kernelspec": {
   "display_name": "Python 3",
   "language": "python",
   "name": "python3"
  },
  "language_info": {
   "codemirror_mode": {
    "name": "ipython",
    "version": 3
   },
   "file_extension": ".py",
   "mimetype": "text/x-python",
   "name": "python",
   "nbconvert_exporter": "python",
   "pygments_lexer": "ipython3",
   "version": "3.7.4"
  }
 },
 "nbformat": 4,
 "nbformat_minor": 4
}
