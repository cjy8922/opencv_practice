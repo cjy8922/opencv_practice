{
 "cells": [
  {
   "cell_type": "code",
   "execution_count": 1,
   "metadata": {
    "ExecuteTime": {
     "end_time": "2020-12-18T05:06:09.962425Z",
     "start_time": "2020-12-18T05:06:09.398887Z"
    }
   },
   "outputs": [],
   "source": [
    "import cv2\n",
    "import numpy as np\n",
    "import matplotlib.pyplot as plt"
   ]
  },
  {
   "cell_type": "markdown",
   "metadata": {},
   "source": [
    "# Contours\n",
    "    Contour는 동일한 색 또는 동일한 픽셀값(강도, intensity)을 가지고 있는 영역의 경계선 정보이다. 물체의 윤곽선, 외형을 파악하는데 사용된다. openCV의 findContour 함수로 이미지의 Contour 정보와 Contour 계층구조(hierarchy) 정보를 출력한다. 흑백 이미지 또는 이진화된 이미지에만 적용할 수 있다.\n",
    "    \n",
    "    findContours 함수로 반환받는 Contour 값은 Contour를 구성하는 점들로 이루어진 배열의 리스트로 len(contours)로는 hierarchy의 갯수를, len(contours[i])로는 각각의 hierarchy를 이루는 Contour 점의 갯수를 알 수 있다. 이 때, 같은 리스트로 이루어진 점들은 같은 Hierarchy에 묶여 있다고 볼 수 있다.\n",
    "    \n",
    "    여기서 hierarchy는 index와 -1로 이루어진 Contour * 4 크기의 행렬로 각각의 index에 해당하는 원소는 다음을 의미힌다.\n",
    "    - 0 : 동일 계층에서 다음 Contour의 index, 없으면 -1\n",
    "    - 1 : 동일 계층에서 이전 Contour의 index, 없으면 -1\n",
    "    - 2 : 바로 밑 자식 Contour의 index, 가장 하위의 Contour이면 -1\n",
    "    - 3 : 바로 위 부모 Contour의 index, 가장 상위의 Contour이면 -1   "
   ]
  },
  {
   "cell_type": "code",
   "execution_count": 2,
   "metadata": {
    "ExecuteTime": {
     "end_time": "2020-12-18T05:06:12.218126Z",
     "start_time": "2020-12-18T05:06:12.207154Z"
    }
   },
   "outputs": [],
   "source": [
    "def onChange(x):\n",
    "    return int(x)\n",
    "\n",
    "def findContours():\n",
    "    img = cv2.imread('hangul.jpg')\n",
    "    img_gray = cv2.cvtColor(img, cv2.COLOR_BGR2GRAY)\n",
    "    res, thr = cv2.threshold(img_gray, 127, 255, cv2.THRESH_BINARY_INV)\n",
    "    \n",
    "    cv2.namedWindow('contours')\n",
    "    cv2.createTrackbar('index', 'contours', 0, 16, onChange)\n",
    "    contours, hierarchy = cv2.findContours(thr, cv2.RETR_EXTERNAL, cv2.CHAIN_APPROX_SIMPLE)\n",
    "    \n",
    "    while True:\n",
    "        img_copy = img.copy()\n",
    "\n",
    "        index = cv2.getTrackbarPos('index', 'contours')\n",
    "        cnt = contours[index]\n",
    "        cv2.drawContours(img_copy, [cnt], 0, (255, 255, 0), 2)        \n",
    "        cv2.imshow('contours', img_copy)\n",
    "            \n",
    "        k = cv2.waitKey(0) & 0xFF\n",
    "        if k == 27:\n",
    "            break\n",
    "        \n",
    "    cv2.destroyAllWindows()"
   ]
  },
  {
   "cell_type": "code",
   "execution_count": 4,
   "metadata": {
    "ExecuteTime": {
     "end_time": "2020-12-18T05:09:40.252847Z",
     "start_time": "2020-12-18T05:06:30.168715Z"
    }
   },
   "outputs": [],
   "source": [
    "findContours()"
   ]
  },
  {
   "cell_type": "markdown",
   "metadata": {},
   "source": [
    "---\n",
    "# Contour features\n",
    "## 이미지 모멘트 (Image Moments)\n",
    "    이미지 모멘트는 객체의 무게중심, 객체의 면적 등과 같은 특성을 계산할 때 유용하다. Contour에 대한 특징값을 뜻하며, openCV에서는 cv2.moments 함수를 통해 이미지 모멘트를 계산하고 이를 딕셔너리 형태로 담아 리턴한다. 반환하는 모멘트는 총 24개로 10개의 위치 모멘트, 7개의 중심 모멘트, 7개의 정규화된 중심 모멘트로 이루어져 있다.\n",
    "    - 공간 모멘트 (Spatial Moments) : m00, m10, m01, m20, m11, m02, m30, m21, m12, m03\n",
    "    - 중심 모멘트 (Central Moments) : mu20, mu11, mu02, mu30, mu21, mu12, mu03\n",
    "    - 평준화된 중심 모멘트 (Central Normalized Moments) : nu20, nu11, nu02, nu30, nu21, nu12, nu03\n",
    "    \n",
    "## cv2.moments(array [, binaryImage]) → retval\n",
    "    다각형이나 레스터화된 모양의 이미지의 공간모멘트, 중심모멘트, 평준화된 중심 모멘트를 3차까지 계산한다. 이때 인자로 받는 배열, array는 2차원 포인터로 이루어진 배열이어야 한다. (이때, findContours 함수로 반환받은 contours의 데이터형태는 4차원 배열로, 그 안의 각각의 요소는 같은 hierarchy로 묶인 2차원 포인터들의 배열로 이루어져 있다. 따라서 주로 findContours 함수로 반환받은 Contours의 요소를 array의 인자로 전달한다.) 그러면 moments 함수는 앞서 소개한 모든 모멘트를 계산해 Dictionary 형태로 묶어 반환한다. 이렇게 얻어진 모멘트를 기반으로 이미지 혹은 도형의 다양한 특성들을 구할 수 있다."
   ]
  },
  {
   "cell_type": "code",
   "execution_count": 6,
   "metadata": {
    "ExecuteTime": {
     "end_time": "2020-12-18T05:19:58.197528Z",
     "start_time": "2020-12-18T05:19:58.081819Z"
    }
   },
   "outputs": [
    {
     "name": "stdout",
     "output_type": "stream",
     "text": [
      "dict_items([('m00', 5575.5), ('m10', 383803.6666666666), ('m01', 279202.0), ('m20', 29970200.416666664), ('m11', 19929676.291666664), ('m02', 18577736.75), ('m30', 2509172870.8), ('m21', 1549590762.4833333), ('m12', 1341590241.35), ('m03', 1482037060.7), ('mu20', 3550102.748874046), ('mu11', 710099.3316331841), ('mu02', 4596254.048179535), ('mu30', -42662429.13257408), ('mu21', -48977500.64838508), ('mu12', -8374029.154776275), ('mu03', 91398032.52438426), ('nu20', 0.11420188766473786), ('nu11', 0.022842911836199218), ('nu02', 0.1478551257862252), ('nu30', -0.018379598899828615), ('nu21', -0.021100224139513266), ('nu12', -0.003607654326526446), ('nu03', 0.03937561016067528)])\n"
     ]
    },
    {
     "data": {
      "text/plain": [
       "(-0.5, 129.5, 127.5, -0.5)"
      ]
     },
     "execution_count": 6,
     "metadata": {},
     "output_type": "execute_result"
    },
    {
     "data": {
      "image/png": "[encoded data removed]",
      "text/plain": [
       "<Figure size 432x288 with 1 Axes>"
      ]
     },
     "metadata": {
      "needs_background": "light"
     },
     "output_type": "display_data"
    }
   ],
   "source": [
    "img = cv2.imread('cropped.jpg')\n",
    "img2 = img.copy()\n",
    "img_gray = cv2.cvtColor(img, cv2.COLOR_BGR2GRAY)\n",
    "ret, thresh = cv2.threshold(img_gray, 127, 255, cv2.THRESH_BINARY_INV)\n",
    "\n",
    "contours, hierarchy = cv2.findContours(thresh, cv2.RETR_EXTERNAL, cv2.CHAIN_APPROX_SIMPLE)\n",
    "cv2.drawContours(img, contours, -1, (0, 255, 255), 2)\n",
    "\n",
    "c0 = contours[0]\n",
    "M = cv2.moments(c0)\n",
    "print(M.items())\n",
    "\n",
    "plt.title('contour')\n",
    "plt.imshow(img)\n",
    "plt.axis('off')"
   ]
  },
  {
   "cell_type": "markdown",
   "metadata": {},
   "source": [
    "## 1. Centroid\n",
    "    이렇게 얻은 Moments로 대표적으로 해당 Contours의 중심점을 다음과 같은 방법으로 구할 수 있다.\n",
    "    \n",
    "    C_x = M_10 / M_00\n",
    "    C_y = M_01 / M_00"
   ]
  },
  {
   "cell_type": "code",
   "execution_count": 5,
   "metadata": {},
   "outputs": [
    {
     "data": {
      "image/png": "[encoded data removed]",
      "text/plain": [
       "<Figure size 432x288 with 1 Axes>"
      ]
     },
     "metadata": {
      "needs_background": "light"
     },
     "output_type": "display_data"
    }
   ],
   "source": [
    "img_copy = img.copy()\n",
    "cx = int(M['m10']/M['m00'])\n",
    "cy = int(M['m01']/M['m00'])\n",
    "cv2.circle(img_copy, (cx, cy), 2, (255, 0, 0), -1)\n",
    "\n",
    "plt.imshow(img_copy)\n",
    "plt.title(\"Contour Center\")\n",
    "plt.axis(\"off\")\n",
    "plt.show()"
   ]
  },
  {
   "cell_type": "markdown",
   "metadata": {},
   "source": [
    "## 2. Extream Point\n",
    "    Moments와는 별개로 해당 Contour의 최남단, 최북단, 최동단, 최서단을 다음과 같이 구할 수 있다."
   ]
  },
  {
   "cell_type": "code",
   "execution_count": 6,
   "metadata": {},
   "outputs": [
    {
     "data": {
      "image/png": "[encoded data removed]",
      "text/plain": [
       "<Figure size 432x288 with 1 Axes>"
      ]
     },
     "metadata": {
      "needs_background": "light"
     },
     "output_type": "display_data"
    }
   ],
   "source": [
    "leftmost = tuple(c0[c0[:, :, 0].argmin()][0])\n",
    "rightmost = tuple(c0[c0[:, :, 0].argmax()][0])\n",
    "topmost = tuple(c0[c0[:, :, 1].argmin()][0])\n",
    "bottommost = tuple(c0[c0[:, :, 1].argmax()][0])\n",
    "\n",
    "cv2.circle(img_copy, (leftmost[0], leftmost[1]), 3, (0, 0, 255), -1)\n",
    "cv2.circle(img_copy, (rightmost[0], rightmost[1]), 3, (0, 0, 255), -1)\n",
    "cv2.circle(img_copy, (bottommost[0], bottommost[1]), 3, (0, 0, 255), -1)\n",
    "cv2.circle(img_copy, (topmost[0], topmost[1]), 3, (0, 0, 255), -1)\n",
    "        \n",
    "plt.imshow(img_copy)\n",
    "plt.title(\"Extream Point\")\n",
    "plt.axis(\"off\")\n",
    "plt.show()"
   ]
  },
  {
   "cell_type": "markdown",
   "metadata": {},
   "source": [
    "## 3. Contour Area\n",
    "    Contour Area는 폐곡선 형태의 Contour로 둘러쌓인 부분의 면적을 의미한다. 해당 Contour의 면적은 Moments에서 \"m00\"을 통해 구할 수 있다. 마찬가지로 contourArea 함수를 통해 구할 수도 있다.\n",
    "\n",
    "## cv2.contourArea(contour [, oriented]) → retval\n",
    "    위 함수는 Contour의 면적을 구하는 함수이다. 모멘트와 비슷하게 Green 공식(미적분에서 적분을 이용해 면적을 구하는 공식)을 이용하여 이 면적을 구한다. 그러므로 drawContours나 fillPoly 함수를 사용해 윤곽선을 그리는 경우, 반환되는 면적과 0이 아닌 픽셀들의 수는 다를 수도 있다. 또한 이 함수는 주로 교차되어 있는 Contours에 대해서는 잘못된 결과를 반환할 수도 있다. 2차원 포인터의 배열을 contour의 인자로 입력받는다."
   ]
  },
  {
   "cell_type": "code",
   "execution_count": 7,
   "metadata": {},
   "outputs": [
    {
     "data": {
      "text/plain": [
       "5575.5"
      ]
     },
     "execution_count": 7,
     "metadata": {},
     "output_type": "execute_result"
    }
   ],
   "source": [
    "M[\"m00\"]"
   ]
  },
  {
   "cell_type": "code",
   "execution_count": 8,
   "metadata": {},
   "outputs": [
    {
     "data": {
      "text/plain": [
       "5575.5"
      ]
     },
     "execution_count": 8,
     "metadata": {},
     "output_type": "execute_result"
    }
   ],
   "source": [
    "cv2.contourArea(c0)"
   ]
  },
  {
   "cell_type": "markdown",
   "metadata": {},
   "source": [
    "## 4. Contour Perimeter\n",
    "    폐곡선 형태의 Contour 둘레의 길이를 구하거나 폐곡선이 아닌 곡선의 길이를 계산하는 함수이다. 이때, 폐곡선이란 선의 양쪽 끝이 연결되어 있어 도형을 이루며 어느 부분이 시작점이고 끝점인지 알 수 없는 곡선을 의미한다, 양끝이 열려 있어 도형을 이루지 않는 곡선을 폐곡선이라 하지 않는다.\n",
    "    \n",
    "## cv2.arcLength(curve, closed) → retval\n",
    "    첫번째 인자로 Moments 함수나 contourArea 함수와 마찬가지로 2차원 포인터의 배열을 curve의 인자로 입력받는다. 두번째 인자로 길이를 구하고자 하는 곡선이 폐곡선인지 아닌지를 boolean 형태로 입력받는다. 폐곡선일 경우 True를 인자로 전달하고, 아닐 경우 False를 인자로 전달하면 된다."
   ]
  },
  {
   "cell_type": "code",
   "execution_count": 7,
   "metadata": {
    "ExecuteTime": {
     "end_time": "2020-12-18T05:20:02.112899Z",
     "start_time": "2020-12-18T05:20:02.097113Z"
    }
   },
   "outputs": [
    {
     "data": {
      "text/plain": [
       "429.23758828639984"
      ]
     },
     "execution_count": 7,
     "metadata": {},
     "output_type": "execute_result"
    }
   ],
   "source": [
    "cv2.arcLength(c0, closed=True)"
   ]
  },
  {
   "cell_type": "code",
   "execution_count": 8,
   "metadata": {
    "ExecuteTime": {
     "end_time": "2020-12-18T05:20:02.726260Z",
     "start_time": "2020-12-18T05:20:02.719278Z"
    }
   },
   "outputs": [
    {
     "data": {
      "text/plain": [
       "329.23758828639984"
      ]
     },
     "execution_count": 8,
     "metadata": {},
     "output_type": "execute_result"
    }
   ],
   "source": [
    "cv2.arcLength(c0, closed=False)"
   ]
  },
  {
   "cell_type": "markdown",
   "metadata": {},
   "source": [
    "---\n",
    "# Find Contour Features with trackbar"
   ]
  },
  {
   "cell_type": "code",
   "execution_count": 2,
   "metadata": {
    "ExecuteTime": {
     "end_time": "2020-08-23T02:55:58.832104Z",
     "start_time": "2020-08-23T02:55:58.805919Z"
    }
   },
   "outputs": [],
   "source": [
    "def onChange(x):\n",
    "    return int(x)\n",
    "\n",
    "def ContoursFeature():\n",
    "    img = cv2.imread('hangul.jpg')\n",
    "    img_gray = cv2.cvtColor(img, cv2.COLOR_BGR2GRAY)\n",
    "    res, thr = cv2.threshold(img_gray, 127, 255, cv2.THRESH_BINARY_INV)\n",
    "    \n",
    "    cv2.namedWindow('contours')\n",
    "    cv2.createTrackbar('index', 'contours', 0, 16, onChange)\n",
    "    contours, hierarchy = cv2.findContours(thr, cv2.RETR_EXTERNAL, cv2.CHAIN_APPROX_SIMPLE)\n",
    "    \n",
    "    while True:\n",
    "        img_copy = img.copy()\n",
    "\n",
    "        index = cv2.getTrackbarPos('index', 'contours')\n",
    "        cnt = contours[index]\n",
    "        cv2.drawContours(img_copy, [cnt], 0, (0, 255, 255), 3)\n",
    "        \n",
    "        M = cv2.moments(cnt)\n",
    "        cx = int(M['m10']/M['m00'])\n",
    "        cy = int(M['m01']/M['m00'])\n",
    "        leftmost = tuple(cnt[cnt[:, :, 0].argmin()][0])\n",
    "        rightmost = tuple(cnt[cnt[:, :, 0].argmax()][0])\n",
    "        topmost = tuple(cnt[cnt[:, :, 1].argmin()][0])\n",
    "        bottommost = tuple(cnt[cnt[:, :, 1].argmax()][0])\n",
    "        cv2.circle(img_copy, (cx, cy), 3, (255, 0, 0), -1)\n",
    "        cv2.circle(img_copy, (leftmost[0], leftmost[1]), 3, (0, 0, 255), -1)\n",
    "        cv2.circle(img_copy, (rightmost[0], rightmost[1]), 3, (0, 0, 255), -1)\n",
    "        cv2.circle(img_copy, (bottommost[0], bottommost[1]), 3, (0, 0, 255), -1)\n",
    "        cv2.circle(img_copy, (topmost[0], topmost[1]), 3, (0, 0, 255), -1)\n",
    "        \n",
    "        print(\"-----------------------------\")\n",
    "        print((index+1), \"번째 Contour의 면적 : \", cv2.contourArea(cnt))\n",
    "        print((index+1), \"번째 Contour의 길이 : \", cv2.arcLength(cnt, closed=True))\n",
    "        \n",
    "        cv2.imshow('contours', img_copy)\n",
    "            \n",
    "        k = cv2.waitKey(0) & 0xFF\n",
    "        if k == 27:\n",
    "            break\n",
    "        \n",
    "    print(\"-----------------------------\")    \n",
    "    cv2.destroyAllWindows()"
   ]
  },
  {
   "cell_type": "code",
   "execution_count": 3,
   "metadata": {
    "ExecuteTime": {
     "end_time": "2020-08-23T02:56:14.379587Z",
     "start_time": "2020-08-23T02:55:59.263760Z"
    }
   },
   "outputs": [
    {
     "name": "stdout",
     "output_type": "stream",
     "text": [
      "-----------------------------\n",
      "1 번째 Contour의 면적 :  9171.5\n",
      "1 번째 Contour의 길이 :  356.89444279670715\n",
      "-----------------------------\n",
      "4 번째 Contour의 면적 :  271.5\n",
      "4 번째 Contour의 길이 :  83.41421353816986\n",
      "-----------------------------\n",
      "2 번째 Contour의 면적 :  8418.5\n",
      "2 번째 Contour의 길이 :  501.899494767189\n",
      "-----------------------------\n",
      "4 번째 Contour의 면적 :  271.5\n",
      "4 번째 Contour의 길이 :  83.41421353816986\n",
      "-----------------------------\n",
      "4 번째 Contour의 면적 :  271.5\n",
      "4 번째 Contour의 길이 :  83.41421353816986\n",
      "-----------------------------\n",
      "4 번째 Contour의 면적 :  271.5\n",
      "4 번째 Contour의 길이 :  83.41421353816986\n",
      "-----------------------------\n",
      "6 번째 Contour의 면적 :  7331.0\n",
      "6 번째 Contour의 길이 :  542.2497808933258\n",
      "-----------------------------\n",
      "6 번째 Contour의 면적 :  7331.0\n",
      "6 번째 Contour의 길이 :  542.2497808933258\n",
      "-----------------------------\n",
      "7 번째 Contour의 면적 :  7299.0\n",
      "7 번째 Contour의 길이 :  542.2497808933258\n",
      "-----------------------------\n",
      "7 번째 Contour의 면적 :  7299.0\n",
      "7 번째 Contour의 길이 :  542.2497808933258\n",
      "-----------------------------\n",
      "7 번째 Contour의 면적 :  7299.0\n",
      "7 번째 Contour의 길이 :  542.2497808933258\n",
      "-----------------------------\n",
      "8 번째 Contour의 면적 :  8433.0\n",
      "8 번째 Contour의 길이 :  671.3137083053589\n",
      "-----------------------------\n",
      "8 번째 Contour의 면적 :  8433.0\n",
      "8 번째 Contour의 길이 :  671.3137083053589\n",
      "-----------------------------\n",
      "9 번째 Contour의 면적 :  899.0\n",
      "9 번째 Contour의 길이 :  218.82842707633972\n",
      "-----------------------------\n",
      "10 번째 Contour의 면적 :  5881.0\n",
      "10 번째 Contour의 길이 :  441.0782079696655\n",
      "-----------------------------\n",
      "11 번째 Contour의 면적 :  9206.5\n",
      "11 번째 Contour의 길이 :  357.7228693962097\n",
      "-----------------------------\n",
      "12 번째 Contour의 면적 :  9129.5\n",
      "12 번째 Contour의 길이 :  464.3847759962082\n",
      "-----------------------------\n",
      "12 번째 Contour의 면적 :  9129.5\n",
      "12 번째 Contour의 길이 :  464.3847759962082\n",
      "-----------------------------\n",
      "13 번째 Contour의 면적 :  10200.0\n",
      "13 번째 Contour의 길이 :  402.8284270763397\n",
      "-----------------------------\n",
      "13 번째 Contour의 면적 :  10200.0\n",
      "13 번째 Contour의 길이 :  402.8284270763397\n",
      "-----------------------------\n"
     ]
    }
   ],
   "source": [
    "ContoursFeature()"
   ]
  },
  {
   "cell_type": "code",
   "execution_count": null,
   "metadata": {},
   "outputs": [],
   "source": []
  }
 ],
 "metadata": {
  "hide_input": false,
  "kernelspec": {
   "display_name": "Python 3",
   "language": "python",
   "name": "python3"
  },
  "language_info": {
   "codemirror_mode": {
    "name": "ipython",
    "version": 3
   },
   "file_extension": ".py",
   "mimetype": "text/x-python",
   "name": "python",
   "nbconvert_exporter": "python",
   "pygments_lexer": "ipython3",
   "version": "3.7.4"
  },
  "varInspector": {
   "cols": {
    "lenName": 16,
    "lenType": 16,
    "lenVar": 40
   },
   "kernels_config": {
    "python": {
     "delete_cmd_postfix": "",
     "delete_cmd_prefix": "del ",
     "library": "var_list.py",
     "varRefreshCmd": "print(var_dic_list())"
    },
    "r": {
     "delete_cmd_postfix": ") ",
     "delete_cmd_prefix": "rm(",
     "library": "var_list.r",
     "varRefreshCmd": "cat(var_dic_list()) "
    }
   },
   "types_to_exclude": [
    "module",
    "function",
    "builtin_function_or_method",
    "instance",
    "_Feature"
   ],
   "window_display": false
  }
 },
 "nbformat": 4,
 "nbformat_minor": 4
}
